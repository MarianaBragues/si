{
 "cells": [
  {
   "cell_type": "markdown",
   "metadata": {},
   "source": [
    "# Evaluation 4\n",
    "\n",
    "#### Exercise 6: Implementing stratified splitting\n",
    "6.1) In the \"split.py\" module of the \"model_selection\" subpackage add the \"stratified_train_test_split\" function Consider the structure of the function presented in the next slide)."
   ]
  },
  {
   "cell_type": "code",
   "execution_count": null,
   "metadata": {},
   "outputs": [],
   "source": [
    "#in split.py, model_selection"
   ]
  },
  {
   "cell_type": "markdown",
   "metadata": {},
   "source": [
    "6.2) Test the \"stratified_train_test_split\" function with the iris dataset."
   ]
  },
  {
   "cell_type": "code",
   "execution_count": 1,
   "metadata": {},
   "outputs": [],
   "source": [
    "from si.model_selection.split import stratified_train_test_split\n",
    "from si.io.csv_file import read_csv"
   ]
  },
  {
   "cell_type": "code",
   "execution_count": 2,
   "metadata": {},
   "outputs": [
    {
     "name": "stdout",
     "output_type": "stream",
     "text": [
      "<si.data.dataset.Dataset object at 0x000001EE220E37C0>\n"
     ]
    }
   ],
   "source": [
    "df_path = r\"C:\\Users\\Mariana\\si\\datasets\\iris\\iris.csv\"\n",
    "iris = read_csv(df_path, sep = ',', features = True, label = True) \n",
    "print(iris)"
   ]
  },
  {
   "cell_type": "code",
   "execution_count": 8,
   "metadata": {},
   "outputs": [
    {
     "ename": "AttributeError",
     "evalue": "'Dataset' object has no attribute 'target'",
     "output_type": "error",
     "traceback": [
      "\u001b[1;31m---------------------------------------------------------------------------\u001b[0m",
      "\u001b[1;31mAttributeError\u001b[0m                            Traceback (most recent call last)",
      "\u001b[1;32mc:\\Users\\Mariana\\si\\scripts\\evaluation_4_ex6_ex7.ipynb Cell 6\u001b[0m line \u001b[0;36m2\n\u001b[0;32m      <a href='vscode-notebook-cell:/c%3A/Users/Mariana/si/scripts/evaluation_4_ex6_ex7.ipynb#X14sZmlsZQ%3D%3D?line=0'>1</a>\u001b[0m \u001b[39m# Split the dataset using the custom function\u001b[39;00m\n\u001b[1;32m----> <a href='vscode-notebook-cell:/c%3A/Users/Mariana/si/scripts/evaluation_4_ex6_ex7.ipynb#X14sZmlsZQ%3D%3D?line=1'>2</a>\u001b[0m train_dataset, test_dataset \u001b[39m=\u001b[39m stratified_train_test_split(iris, test_size\u001b[39m=\u001b[39;49m\u001b[39m0.2\u001b[39;49m, random_state\u001b[39m=\u001b[39;49m\u001b[39m42\u001b[39;49m)\n\u001b[0;32m      <a href='vscode-notebook-cell:/c%3A/Users/Mariana/si/scripts/evaluation_4_ex6_ex7.ipynb#X14sZmlsZQ%3D%3D?line=3'>4</a>\u001b[0m \u001b[39m# Print the shapes of the resulting datasets\u001b[39;00m\n\u001b[0;32m      <a href='vscode-notebook-cell:/c%3A/Users/Mariana/si/scripts/evaluation_4_ex6_ex7.ipynb#X14sZmlsZQ%3D%3D?line=4'>5</a>\u001b[0m \u001b[39mprint\u001b[39m(\u001b[39mf\u001b[39m\u001b[39m\"\u001b[39m\u001b[39mTrain Dataset Shape: \u001b[39m\u001b[39m{\u001b[39;00mtrain_dataset\u001b[39m.\u001b[39mshape\u001b[39m}\u001b[39;00m\u001b[39m\"\u001b[39m)\n",
      "File \u001b[1;32mc:\\Users\\Mariana\\AppData\\Local\\Programs\\Python\\Python310\\lib\\site-packages\\si-0.0.1-py3.10.egg\\si\\model_selection\\split.py:66\u001b[0m, in \u001b[0;36mstratified_train_test_split\u001b[1;34m(dataset, test_size, random_state)\u001b[0m\n\u001b[0;32m     46\u001b[0m \u001b[39m\u001b[39m\u001b[39m\"\"\"\u001b[39;00m\n\u001b[0;32m     47\u001b[0m \u001b[39mSplit the dataset into stratified training and testing sets\u001b[39;00m\n\u001b[0;32m     48\u001b[0m \n\u001b[1;32m   (...)\u001b[0m\n\u001b[0;32m     63\u001b[0m \u001b[39m    The testing dataset\u001b[39;00m\n\u001b[0;32m     64\u001b[0m \u001b[39m\"\"\"\u001b[39;00m\n\u001b[0;32m     65\u001b[0m \u001b[39m# Get unique class labels and their counts\u001b[39;00m\n\u001b[1;32m---> 66\u001b[0m unique_labels, label_counts \u001b[39m=\u001b[39m np\u001b[39m.\u001b[39munique(dataset\u001b[39m.\u001b[39;49mtarget, return_counts\u001b[39m=\u001b[39m\u001b[39mTrue\u001b[39;00m)\n\u001b[0;32m     67\u001b[0m \u001b[39m# Initialize empty lists for train and test indices\u001b[39;00m\n\u001b[0;32m     68\u001b[0m train_indices \u001b[39m=\u001b[39m []\n",
      "\u001b[1;31mAttributeError\u001b[0m: 'Dataset' object has no attribute 'target'"
     ]
    }
   ],
   "source": [
    "# Split the dataset using the custom function\n",
    "train_dataset, test_dataset = stratified_train_test_split(iris, test_size=0.2, random_state=42)\n",
    "\n",
    "# Print the shapes of the resulting datasets\n",
    "print(f\"Train Dataset Shape: {train_dataset.shape}\")\n",
    "print(f\"Test Dataset Shape: {test_dataset.shape}\")\n"
   ]
  },
  {
   "cell_type": "markdown",
   "metadata": {},
   "source": [
    "#### Exercise 7: Implementing the KNN Regressor with RMSE\n",
    "7.1) Add the RMSE metric to the \"metrics\" sub-package. You must create a new module named \"rmse.py\". Consider the structure of the rmse function as presented in the following slide."
   ]
  },
  {
   "cell_type": "code",
   "execution_count": null,
   "metadata": {},
   "outputs": [],
   "source": []
  },
  {
   "cell_type": "markdown",
   "metadata": {},
   "source": [
    "7.2) Add the \"KNN Regressor\" class to the \"models\" sub-package. You should create a module named \"knn_regressor.py\" to implement this class. Consider the structure of the \"KNN Regressor\" as presented in the next slides."
   ]
  },
  {
   "cell_type": "code",
   "execution_count": null,
   "metadata": {},
   "outputs": [],
   "source": []
  },
  {
   "cell_type": "markdown",
   "metadata": {},
   "source": [
    "7.3) Test the \"KNN Regressor\" class using the \"cpu.csv\" dataset (regression)."
   ]
  },
  {
   "cell_type": "code",
   "execution_count": null,
   "metadata": {},
   "outputs": [],
   "source": []
  }
 ],
 "metadata": {
  "kernelspec": {
   "display_name": "Python 3",
   "language": "python",
   "name": "python3"
  },
  "language_info": {
   "codemirror_mode": {
    "name": "ipython",
    "version": 3
   },
   "file_extension": ".py",
   "mimetype": "text/x-python",
   "name": "python",
   "nbconvert_exporter": "python",
   "pygments_lexer": "ipython3",
   "version": "3.10.7"
  }
 },
 "nbformat": 4,
 "nbformat_minor": 2
}
