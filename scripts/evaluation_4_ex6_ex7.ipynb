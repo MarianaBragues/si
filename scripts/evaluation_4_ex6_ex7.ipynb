{
 "cells": [
  {
   "cell_type": "markdown",
   "metadata": {},
   "source": [
    "# Evaluation 4\n",
    "\n",
    "#### Exercise 6: Implementing stratified splitting\n",
    "6.1) In the \"split.py\" module of the \"model_selection\" subpackage add the \"stratified_train_test_split\" function. (Consider the structure of the function presented in the next slide)."
   ]
  },
  {
   "cell_type": "code",
   "execution_count": 1,
   "metadata": {},
   "outputs": [],
   "source": [
    "#pasta \"si\", sub-pasta \"model_selection\", ficheiro \"split.py\""
   ]
  },
  {
   "cell_type": "markdown",
   "metadata": {},
   "source": [
    "6.2) Test the \"stratified_train_test_split\" function with the iris dataset."
   ]
  },
  {
   "cell_type": "code",
   "execution_count": 1,
   "metadata": {},
   "outputs": [],
   "source": [
    "from si.model_selection.split import stratified_train_test_split\n",
    "from si.io.csv_file import read_csv"
   ]
  },
  {
   "cell_type": "code",
   "execution_count": 3,
   "metadata": {},
   "outputs": [
    {
     "name": "stdout",
     "output_type": "stream",
     "text": [
      "<si.data.dataset.Dataset object at 0x000002ACDD0C1FC0>\n"
     ]
    }
   ],
   "source": [
    "df_path = r\"C:\\Users\\Mariana\\si\\datasets\\iris\\iris.csv\"\n",
    "iris = read_csv(df_path, sep = ',', features = True, label = True) \n",
    "print(iris)"
   ]
  },
  {
   "cell_type": "code",
   "execution_count": 7,
   "metadata": {},
   "outputs": [],
   "source": [
    "# Split the dataset using the custom function\n",
    "train_dataset, test_dataset = stratified_train_test_split(iris, test_size=0.2, random_state=42)"
   ]
  },
  {
   "cell_type": "code",
   "execution_count": 13,
   "metadata": {},
   "outputs": [
    {
     "name": "stdout",
     "output_type": "stream",
     "text": [
      "Train Dataset Shape: (120, 4)\n",
      "Test Dataset Shape: (30, 4)\n"
     ]
    }
   ],
   "source": [
    "print(f\"Train Dataset Shape: {train_dataset.shape()}\")\n",
    "print(f\"Test Dataset Shape: {test_dataset.shape()}\")"
   ]
  },
  {
   "cell_type": "markdown",
   "metadata": {},
   "source": [
    "#### Exercise 7: Implementing the KNN Regressor with RMSE\n",
    "7.1) Add the RMSE metric to the \"metrics\" sub-package. You must create a new module named \"rmse.py\". Consider the structure of the rmse function as presented in the following slide."
   ]
  },
  {
   "cell_type": "code",
   "execution_count": null,
   "metadata": {},
   "outputs": [],
   "source": [
    "#pasta \"si\", sub-pasta \"metrics\", ficheiro \"rmse.py\""
   ]
  },
  {
   "cell_type": "markdown",
   "metadata": {},
   "source": [
    "7.2) Add the \"KNN Regressor\" class to the \"models\" sub-package. You should create a module named \"knn_regressor.py\" to implement this class. Consider the structure of the \"KNN Regressor\" as presented in the next slides."
   ]
  },
  {
   "cell_type": "code",
   "execution_count": null,
   "metadata": {},
   "outputs": [],
   "source": [
    "#pasta \"si\", sub-pasta \"models\", ficheiro \"knn_regressor.py\""
   ]
  },
  {
   "cell_type": "markdown",
   "metadata": {},
   "source": [
    "7.3) Test the \"KNN Regressor\" class using the \"cpu.csv\" dataset (regression)."
   ]
  },
  {
   "cell_type": "code",
   "execution_count": 2,
   "metadata": {},
   "outputs": [],
   "source": [
    "from si.model_selection.split import train_test_split\n",
    "from si.models.knn_regressor import KNNRegressor"
   ]
  },
  {
   "cell_type": "code",
   "execution_count": 3,
   "metadata": {},
   "outputs": [
    {
     "name": "stdout",
     "output_type": "stream",
     "text": [
      "<si.data.dataset.Dataset object at 0x00000198F1332020>\n"
     ]
    }
   ],
   "source": [
    "df_path = r\"C:\\Users\\Mariana\\si\\datasets\\cpu\\cpu.csv\"\n",
    "cpu = read_csv(df_path, sep = ',', features = True, label = True) \n",
    "print(cpu)"
   ]
  },
  {
   "cell_type": "code",
   "execution_count": 4,
   "metadata": {},
   "outputs": [
    {
     "data": {
      "text/plain": [
       "(209, 6)"
      ]
     },
     "execution_count": 4,
     "metadata": {},
     "output_type": "execute_result"
    }
   ],
   "source": [
    "cpu.shape()"
   ]
  },
  {
   "cell_type": "code",
   "execution_count": 8,
   "metadata": {},
   "outputs": [
    {
     "data": {
      "text/plain": [
       "array([[  125,   256,  6000,   256,    16,   128],\n",
       "       [   29,  8000, 32000,    32,     8,    32],\n",
       "       [   29,  8000, 32000,    32,     8,    32],\n",
       "       ...,\n",
       "       [  125,  2000,  8000,     0,     2,    14],\n",
       "       [  480,   512,  8000,    32,     0,     0],\n",
       "       [  480,  1000,  4000,     0,     0,     0]], dtype=int64)"
      ]
     },
     "execution_count": 8,
     "metadata": {},
     "output_type": "execute_result"
    }
   ],
   "source": [
    "cpu.X"
   ]
  },
  {
   "cell_type": "code",
   "execution_count": 6,
   "metadata": {},
   "outputs": [],
   "source": [
    "train_dataset_cpu, test_dataset_cpu = stratified_train_test_split(cpu, test_size=0.2, random_state=42)"
   ]
  },
  {
   "cell_type": "code",
   "execution_count": 7,
   "metadata": {},
   "outputs": [
    {
     "name": "stdout",
     "output_type": "stream",
     "text": [
      "Train Dataset Shape: (201, 6)\n",
      "Test Dataset Shape: (8, 6)\n"
     ]
    }
   ],
   "source": [
    "print(f\"Train Dataset Shape: {train_dataset_cpu.shape()}\")\n",
    "print(f\"Test Dataset Shape: {test_dataset_cpu.shape()}\")"
   ]
  },
  {
   "cell_type": "code",
   "execution_count": 9,
   "metadata": {},
   "outputs": [],
   "source": [
    "model_knn_regressor = KNNRegressor(k=3)"
   ]
  },
  {
   "cell_type": "code",
   "execution_count": 10,
   "metadata": {},
   "outputs": [
    {
     "data": {
      "text/plain": [
       "<si.models.knn_regressor.KNNRegressor at 0x19881b42da0>"
      ]
     },
     "execution_count": 10,
     "metadata": {},
     "output_type": "execute_result"
    }
   ],
   "source": [
    "model_knn_regressor.fit(train_dataset_cpu)"
   ]
  },
  {
   "cell_type": "code",
   "execution_count": 11,
   "metadata": {},
   "outputs": [
    {
     "name": "stdout",
     "output_type": "stream",
     "text": [
      "The rmse of the model is: 24.000000000000004\n"
     ]
    }
   ],
   "source": [
    "score = model_knn_regressor.score(test_dataset_cpu)\n",
    "print(f'The rmse of the model is: {score}')"
   ]
  }
 ],
 "metadata": {
  "kernelspec": {
   "display_name": "Python 3",
   "language": "python",
   "name": "python3"
  },
  "language_info": {
   "codemirror_mode": {
    "name": "ipython",
    "version": 3
   },
   "file_extension": ".py",
   "mimetype": "text/x-python",
   "name": "python",
   "nbconvert_exporter": "python",
   "pygments_lexer": "ipython3",
   "version": "3.10.7"
  }
 },
 "nbformat": 4,
 "nbformat_minor": 2
}
