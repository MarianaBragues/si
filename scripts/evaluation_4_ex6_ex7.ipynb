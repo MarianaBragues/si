{
 "cells": [
  {
   "cell_type": "markdown",
   "metadata": {},
   "source": [
    "# Evaluation 4\n",
    "\n",
    "#### Exercise 6: Implementing stratified splitting\n",
    "6.1) In the \"split.py\" module of the \"model_selection\" subpackage add the \"stratified_train_test_split\" function Consider the structure of the function presented in the next slide)."
   ]
  },
  {
   "cell_type": "code",
   "execution_count": null,
   "metadata": {},
   "outputs": [],
   "source": [
    "#in split.py, model_selection"
   ]
  },
  {
   "cell_type": "markdown",
   "metadata": {},
   "source": [
    "6.2) Test the \"stratified_train_test_split\" function with the iris dataset."
   ]
  },
  {
   "cell_type": "code",
   "execution_count": 1,
   "metadata": {},
   "outputs": [],
   "source": [
    "from si.model_selection.split import stratified_train_test_split\n",
    "from si.io.csv_file import read_csv"
   ]
  },
  {
   "cell_type": "code",
   "execution_count": 2,
   "metadata": {},
   "outputs": [
    {
     "name": "stdout",
     "output_type": "stream",
     "text": [
      "<si.data.dataset.Dataset object at 0x0000024E04BB3430>\n"
     ]
    }
   ],
   "source": [
    "df_path = r\"C:\\Users\\Mariana\\si\\datasets\\iris\\iris.csv\"\n",
    "iris = read_csv(df_path, sep = ',', features = True, label = True) \n",
    "print(iris)"
   ]
  },
  {
   "cell_type": "code",
   "execution_count": 3,
   "metadata": {},
   "outputs": [
    {
     "ename": "IndexError",
     "evalue": "only integers, slices (`:`), ellipsis (`...`), numpy.newaxis (`None`) and integer or boolean arrays are valid indices",
     "output_type": "error",
     "traceback": [
      "\u001b[1;31m---------------------------------------------------------------------------\u001b[0m",
      "\u001b[1;31mIndexError\u001b[0m                                Traceback (most recent call last)",
      "\u001b[1;32mc:\\Users\\Mariana\\si\\scripts\\evaluation_4_ex6_ex7.ipynb Cell 6\u001b[0m line \u001b[0;36m2\n\u001b[0;32m      <a href='vscode-notebook-cell:/c%3A/Users/Mariana/si/scripts/evaluation_4_ex6_ex7.ipynb#W5sZmlsZQ%3D%3D?line=0'>1</a>\u001b[0m \u001b[39m# Split the dataset using the custom function\u001b[39;00m\n\u001b[1;32m----> <a href='vscode-notebook-cell:/c%3A/Users/Mariana/si/scripts/evaluation_4_ex6_ex7.ipynb#W5sZmlsZQ%3D%3D?line=1'>2</a>\u001b[0m train_dataset, test_dataset \u001b[39m=\u001b[39m stratified_train_test_split(iris, test_size\u001b[39m=\u001b[39;49m\u001b[39m0.2\u001b[39;49m, random_state\u001b[39m=\u001b[39;49m\u001b[39m42\u001b[39;49m)\n\u001b[0;32m      <a href='vscode-notebook-cell:/c%3A/Users/Mariana/si/scripts/evaluation_4_ex6_ex7.ipynb#W5sZmlsZQ%3D%3D?line=3'>4</a>\u001b[0m \u001b[39m# Print the shapes of the resulting datasets\u001b[39;00m\n\u001b[0;32m      <a href='vscode-notebook-cell:/c%3A/Users/Mariana/si/scripts/evaluation_4_ex6_ex7.ipynb#W5sZmlsZQ%3D%3D?line=4'>5</a>\u001b[0m \u001b[39mprint\u001b[39m(\u001b[39mf\u001b[39m\u001b[39m\"\u001b[39m\u001b[39mTrain Dataset Shape: \u001b[39m\u001b[39m{\u001b[39;00mtrain_dataset\u001b[39m.\u001b[39mshape\u001b[39m}\u001b[39;00m\u001b[39m\"\u001b[39m)\n",
      "File \u001b[1;32mc:\\Users\\Mariana\\AppData\\Local\\Programs\\Python\\Python310\\lib\\site-packages\\si-0.0.1-py3.10.egg\\si\\model_selection\\split.py:72\u001b[0m, in \u001b[0;36mstratified_train_test_split\u001b[1;34m(dataset, test_size, random_state)\u001b[0m\n\u001b[0;32m     69\u001b[0m test_indices \u001b[39m=\u001b[39m []\n\u001b[0;32m     70\u001b[0m \u001b[39mfor\u001b[39;00m label \u001b[39min\u001b[39;00m unique_labels:\n\u001b[0;32m     71\u001b[0m     \u001b[39m# Calculate the number of test samples for the current class\u001b[39;00m\n\u001b[1;32m---> 72\u001b[0m     num_test_samples \u001b[39m=\u001b[39m \u001b[39mint\u001b[39m(label_counts[label] \u001b[39m*\u001b[39m test_size)\n\u001b[0;32m     73\u001b[0m     \u001b[39m# Get the indices for the current class\u001b[39;00m\n\u001b[0;32m     74\u001b[0m     class_indices \u001b[39m=\u001b[39m np\u001b[39m.\u001b[39mwhere(dataset\u001b[39m.\u001b[39my \u001b[39m==\u001b[39m label)[\u001b[39m0\u001b[39m]\n",
      "\u001b[1;31mIndexError\u001b[0m: only integers, slices (`:`), ellipsis (`...`), numpy.newaxis (`None`) and integer or boolean arrays are valid indices"
     ]
    }
   ],
   "source": [
    "# Split the dataset using the custom function\n",
    "train_dataset, test_dataset = stratified_train_test_split(iris, test_size=0.2, random_state=42)\n",
    "\n",
    "# Print the shapes of the resulting datasets\n",
    "print(f\"Train Dataset Shape: {train_dataset.shape}\")\n",
    "print(f\"Test Dataset Shape: {test_dataset.shape}\")\n"
   ]
  },
  {
   "cell_type": "code",
   "execution_count": null,
   "metadata": {},
   "outputs": [],
   "source": []
  },
  {
   "cell_type": "markdown",
   "metadata": {},
   "source": [
    "#### Exercise 7: Implementing the KNN Regressor with RMSE\n",
    "7.1) Add the RMSE metric to the \"metrics\" sub-package. You must create a new module named \"rmse.py\". Consider the structure of the rmse function as presented in the following slide."
   ]
  },
  {
   "cell_type": "code",
   "execution_count": null,
   "metadata": {},
   "outputs": [],
   "source": []
  },
  {
   "cell_type": "markdown",
   "metadata": {},
   "source": [
    "7.2) Add the \"KNN Regressor\" class to the \"models\" sub-package. You should create a module named \"knn_regressor.py\" to implement this class. Consider the structure of the \"KNN Regressor\" as presented in the next slides."
   ]
  },
  {
   "cell_type": "code",
   "execution_count": null,
   "metadata": {},
   "outputs": [],
   "source": []
  },
  {
   "cell_type": "markdown",
   "metadata": {},
   "source": [
    "7.3) Test the \"KNN Regressor\" class using the \"cpu.csv\" dataset (regression)."
   ]
  },
  {
   "cell_type": "code",
   "execution_count": null,
   "metadata": {},
   "outputs": [],
   "source": []
  }
 ],
 "metadata": {
  "kernelspec": {
   "display_name": "Python 3",
   "language": "python",
   "name": "python3"
  },
  "language_info": {
   "codemirror_mode": {
    "name": "ipython",
    "version": 3
   },
   "file_extension": ".py",
   "mimetype": "text/x-python",
   "name": "python",
   "nbconvert_exporter": "python",
   "pygments_lexer": "ipython3",
   "version": "3.10.7"
  }
 },
 "nbformat": 4,
 "nbformat_minor": 2
}
