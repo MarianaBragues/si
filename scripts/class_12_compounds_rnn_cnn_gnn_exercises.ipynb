{
 "cells": [
  {
   "cell_type": "markdown",
   "metadata": {},
   "source": [
    "# SIB - Class 12 - Compounds RNNs, CNNs, GNNs - Exercises"
   ]
  },
  {
   "cell_type": "markdown",
   "metadata": {},
   "source": [
    "In this notebook, we will train a RNN, CNN and GNN to classify if a given compound is sweet or not. The dataset is composed of training, validation and test sets. \n",
    "\n",
    "The dataset is composed of 3 columns:\n",
    "- ids: the id of the compound\n",
    "- smiles: the SMILES representation of the compound\n",
    "- sweetness: the sweetness of the compound (1 if sweet, 0 if not sweet)"
   ]
  },
  {
   "cell_type": "markdown",
   "metadata": {},
   "source": [
    "**Ex.1**. Load the different splits of the dataset and print the first 5 rows of each split. Drop the ids column and confirm if the splits are balanced."
   ]
  },
  {
   "cell_type": "code",
   "execution_count": null,
   "metadata": {},
   "outputs": [],
   "source": []
  },
  {
   "cell_type": "markdown",
   "metadata": {},
   "source": [
    "**Ex.2**. Standardize the SMILES representation of the compounds and shuffle the different splits of the dataset."
   ]
  },
  {
   "cell_type": "code",
   "execution_count": null,
   "metadata": {},
   "outputs": [],
   "source": []
  },
  {
   "cell_type": "markdown",
   "metadata": {},
   "source": [
    "**Ex.3**. Encode the SMILES representation of the compounds using character encoding. Do not forget to observe the lengths' distribution of the SMILES and to add padding after."
   ]
  },
  {
   "cell_type": "code",
   "execution_count": null,
   "metadata": {},
   "outputs": [],
   "source": []
  },
  {
   "cell_type": "markdown",
   "metadata": {},
   "source": [
    "**Ex.4**. Create a model using RNNs to classify the compounds. Feel free to use any type of RNNs and layers (e.g. LSTM, GRU, etc.). Do not forget to compile the model."
   ]
  },
  {
   "cell_type": "code",
   "execution_count": null,
   "metadata": {},
   "outputs": [],
   "source": []
  },
  {
   "cell_type": "markdown",
   "metadata": {},
   "source": [
    "**Ex.5**. Train the model using the training set and validate it using the validation set. Do not forget to use early stopping and save the best model using model checkpoint."
   ]
  },
  {
   "cell_type": "code",
   "execution_count": null,
   "metadata": {},
   "outputs": [],
   "source": []
  },
  {
   "cell_type": "markdown",
   "metadata": {},
   "source": [
    "**Ex.6**. Evaluate the model using the test set. Print the accuracy, precision, recall and F1-score of the model."
   ]
  },
  {
   "cell_type": "code",
   "execution_count": null,
   "metadata": {},
   "outputs": [],
   "source": []
  },
  {
   "cell_type": "markdown",
   "metadata": {},
   "source": [
    "**Ex.7**. Save the best model and fitted tokenizer."
   ]
  },
  {
   "cell_type": "code",
   "execution_count": null,
   "metadata": {},
   "outputs": [],
   "source": []
  },
  {
   "cell_type": "markdown",
   "source": [
    "**Ex.8**. Create a model using 1D CNNs."
   ],
   "metadata": {
    "collapsed": false
   }
  },
  {
   "cell_type": "code",
   "execution_count": null,
   "outputs": [],
   "source": [],
   "metadata": {
    "collapsed": false
   }
  },
  {
   "cell_type": "markdown",
   "source": [
    "**Ex.9.** Train the model using the training set and validate it using the validation set. Do not forget to use early stopping and save the best model using model checkpoint."
   ],
   "metadata": {
    "collapsed": false
   }
  },
  {
   "cell_type": "code",
   "execution_count": null,
   "outputs": [],
   "source": [],
   "metadata": {
    "collapsed": false
   }
  },
  {
   "cell_type": "markdown",
   "source": [
    "**Ex.10.** Evaluate the model using the test set. Print the accuracy, precision, recall and F1-score of the model."
   ],
   "metadata": {
    "collapsed": false
   }
  },
  {
   "cell_type": "code",
   "execution_count": null,
   "outputs": [],
   "source": [],
   "metadata": {
    "collapsed": false,
    "ExecuteTime": {
     "end_time": "2023-12-01T17:37:12.416205135Z",
     "start_time": "2023-12-01T17:37:12.416003105Z"
    }
   }
  },
  {
   "cell_type": "markdown",
   "source": [
    "**Ex.11.** Save the best model."
   ],
   "metadata": {
    "collapsed": false
   }
  },
  {
   "cell_type": "code",
   "execution_count": null,
   "outputs": [],
   "source": [],
   "metadata": {
    "collapsed": false,
    "ExecuteTime": {
     "end_time": "2023-12-01T17:37:12.416489469Z",
     "start_time": "2023-12-01T17:37:12.416165406Z"
    }
   }
  },
  {
   "cell_type": "markdown",
   "source": [
    "**Ex.12.** Create the adjacency and node features matrices of the compounds."
   ],
   "metadata": {
    "collapsed": false
   }
  },
  {
   "cell_type": "code",
   "execution_count": null,
   "outputs": [],
   "source": [],
   "metadata": {
    "collapsed": false,
    "ExecuteTime": {
     "end_time": "2023-12-01T17:37:12.417812513Z",
     "start_time": "2023-12-01T17:37:12.416296286Z"
    }
   }
  },
  {
   "cell_type": "markdown",
   "source": [
    "**Ex.13.** Implement and train a GNN model."
   ],
   "metadata": {
    "collapsed": false
   }
  },
  {
   "cell_type": "code",
   "execution_count": null,
   "outputs": [],
   "source": [],
   "metadata": {
    "collapsed": false
   }
  },
  {
   "cell_type": "markdown",
   "source": [
    "Ex.14. Evaluate the model using the test set. Print the accuracy, precision, recall and F1-score of the model."
   ],
   "metadata": {
    "collapsed": false
   }
  },
  {
   "cell_type": "code",
   "execution_count": null,
   "outputs": [],
   "source": [],
   "metadata": {
    "collapsed": false
   }
  }
 ],
 "metadata": {
  "kernelspec": {
   "display_name": "AILS",
   "language": "python",
   "name": "python3"
  },
  "language_info": {
   "codemirror_mode": {
    "name": "ipython",
    "version": 3
   },
   "file_extension": ".py",
   "mimetype": "text/x-python",
   "name": "python",
   "nbconvert_exporter": "python",
   "pygments_lexer": "ipython3",
   "version": "3.10.12"
  },
  "orig_nbformat": 4
 },
 "nbformat": 4,
 "nbformat_minor": 2
}
