{
 "cells": [
  {
   "cell_type": "markdown",
   "metadata": {},
   "source": [
    "# SIB - Class 12 - Compounds RNNs, CNNs, GNNs - Exercises"
   ]
  },
  {
   "cell_type": "markdown",
   "metadata": {},
   "source": [
    "In this notebook, we will train a RNN, CNN and GNN to classify if a given compound is sweet or not. The dataset is composed of training, validation and test sets. \n",
    "\n",
    "The dataset is composed of 3 columns:\n",
    "- ids: the id of the compound\n",
    "- smiles: the SMILES representation of the compound\n",
    "- sweetness: the sweetness of the compound (1 if sweet, 0 if not sweet)"
   ]
  },
  {
   "cell_type": "markdown",
   "metadata": {},
   "source": [
    "**Ex.1**. Load the different splits of the dataset and print the first 5 rows of each split. Drop the ids column and confirm if the splits are balanced."
   ]
  },
  {
   "cell_type": "code",
   "execution_count": 14,
   "metadata": {},
   "outputs": [],
   "source": [
    "#importação dos packages necessários\n",
    "from si.io.csv_file import read_csv\n",
    "from si.data import dataset"
   ]
  },
  {
   "cell_type": "code",
   "execution_count": 15,
   "metadata": {},
   "outputs": [],
   "source": [
    "#carregar os diferentes splits do conjunto de dados\n",
    "train_data = r\"C:\\Users\\Mariana\\si\\datasets\\class_12\\train_sweeteners.csv\" # definição da pathway\n",
    "train_data = read_csv(train_data, sep = ',', features = True, label = True)\n",
    "\n",
    "valid_data = r\"C:\\Users\\Mariana\\si\\datasets\\class_12\\valid_sweeteners.csv\" # definição da pathway\n",
    "valid_data = read_csv(valid_data, sep = ',', features = True, label = True)\n",
    "\n",
    "test_data = r\"C:\\Users\\Mariana\\si\\datasets\\class_12\\test_sweeteners.csv\" # definição da pathway\n",
    "test_data = read_csv(test_data, sep = ',', features = True, label = True)"
   ]
  },
  {
   "cell_type": "code",
   "execution_count": 16,
   "metadata": {},
   "outputs": [
    {
     "name": "stdout",
     "output_type": "stream",
     "text": [
      "Primeiras 5 linhas do conjunto de treino:\n",
      "[['e631da1722924266bb73d69b70049ef1' 'COC(=O)C(N)CC1=CC=CC=C1']\n",
      " ['40d714e4454a4394b5114169a0a9dccb' 'O=C(O)CCCCCCCCC(O)CCCCCC(=O)O']\n",
      " ['cbfa72a76cf045158fd8a47686265765' 'CCC(C)(O)C(=O)O']\n",
      " ['3d320bd14901452ba3e41c72c092480e' 'CC(C=O)=CC1=CC=CO1']\n",
      " ['61c6042779714eae9d1373d476280db0'\n",
      "  'O=C(OCC1OC(OC(=O)C2=CC(O)=C(O)C(O)=C2)C(OC(=O)C2=CC(O)=C(O)C(O)=C2)C(OC(=O)C2=CC(O)=C(O)C(O)=C2)C1OC(=O)C1=CC(O)=C(O)C(O)=C1)C1=CC(O)=C(O)C(O)=C1']]\n",
      "\n",
      "Primeiras 5 linhas do conjunto de validação:\n",
      "[['c0d53e20fbda4b0c8dae94fac3aafbc0' '[Ca+2]']\n",
      " ['e04df0e1235646a1a023a8639ad366b8' 'N#C[Fe-4](C#N)(C#N)(C#N)(C#N)C#N']\n",
      " ['315ac53cb2a148d7a70b29fcbaefc100' '[C-]#[O+]']\n",
      " ['bea62b1a7bc1447b8c2b32c57ceaadf2' '[Sr+2]']\n",
      " ['d0637947599b4c1fb08acb0648dfd908' '[N-]=[N+]=N']]\n",
      "\n",
      "Primeiras 5 linhas do conjunto de teste:\n",
      "[['e631da1722924266bb73d69b70049ef1' 'COC(=O)C(N)CC1=CC=CC=C1']\n",
      " ['d3d566d982da47ab9d4850ee5d0100d6' 'CC1CCCC2CC(=O)C(C=O)=CC12C']\n",
      " ['aea751828d8c47fdb89323da3e023d51' 'CC(C)=CCCC(C)C12CCC(C)(O)C1C2']\n",
      " ['fa63cf41078a4160b6d513018ebee82f' 'CCOC(=O)CCCCSC']\n",
      " ['4102974bc4944eb880405b76c2faa00f' 'NC(CCS(=O)O)C(=O)O']]\n"
     ]
    }
   ],
   "source": [
    "#imprimir as primeiras 5 linhas de cada split\n",
    "print(\"Primeiras 5 linhas do conjunto de treino:\")\n",
    "print(train_data.X[:5])\n",
    "\n",
    "print(\"\\nPrimeiras 5 linhas do conjunto de validação:\")\n",
    "print(valid_data.X[:5])\n",
    "\n",
    "print(\"\\nPrimeiras 5 linhas do conjunto de teste:\")\n",
    "print(test_data.X[:5])"
   ]
  },
  {
   "cell_type": "code",
   "execution_count": 17,
   "metadata": {},
   "outputs": [],
   "source": [
    "#remover a coluna 'ids' (é a primeira coluna)\n",
    "train_data = [data[1:] for data in train_data.X]\n",
    "valid_data = [data[1:] for data in valid_data.X]\n",
    "test_data = [data[1:] for data in test_data.X]"
   ]
  },
  {
   "cell_type": "code",
   "execution_count": 18,
   "metadata": {},
   "outputs": [],
   "source": [
    "# Verificar se os splits estão balanceados\n",
    "train_sweetness = [data[-1] for data in train_data]\n",
    "valid_sweetness = [data[-1] for data in valid_data]\n",
    "test_sweetness = [data[-1] for data in test_data]\n"
   ]
  },
  {
   "cell_type": "code",
   "execution_count": 21,
   "metadata": {},
   "outputs": [
    {
     "ename": "TypeError",
     "evalue": "unsupported operand type(s) for +: 'int' and 'str'",
     "output_type": "error",
     "traceback": [
      "\u001b[1;31m---------------------------------------------------------------------------\u001b[0m",
      "\u001b[1;31mTypeError\u001b[0m                                 Traceback (most recent call last)",
      "\u001b[1;32mc:\\Users\\Mariana\\si\\scripts\\class_12_compounds_rnn_cnn_gnn_exercises.ipynb Cell 9\u001b[0m line \u001b[0;36m2\n\u001b[0;32m      <a href='vscode-notebook-cell:/c%3A/Users/Mariana/si/scripts/class_12_compounds_rnn_cnn_gnn_exercises.ipynb#X50sZmlsZQ%3D%3D?line=0'>1</a>\u001b[0m \u001b[39m# Contar o número de amostras em cada classe\u001b[39;00m\n\u001b[1;32m----> <a href='vscode-notebook-cell:/c%3A/Users/Mariana/si/scripts/class_12_compounds_rnn_cnn_gnn_exercises.ipynb#X50sZmlsZQ%3D%3D?line=1'>2</a>\u001b[0m train_sweet_count \u001b[39m=\u001b[39m \u001b[39msum\u001b[39;49m(train_sweetness)\n\u001b[0;32m      <a href='vscode-notebook-cell:/c%3A/Users/Mariana/si/scripts/class_12_compounds_rnn_cnn_gnn_exercises.ipynb#X50sZmlsZQ%3D%3D?line=2'>3</a>\u001b[0m valid_sweet_count \u001b[39m=\u001b[39m \u001b[39msum\u001b[39m(valid_sweetness)\n\u001b[0;32m      <a href='vscode-notebook-cell:/c%3A/Users/Mariana/si/scripts/class_12_compounds_rnn_cnn_gnn_exercises.ipynb#X50sZmlsZQ%3D%3D?line=3'>4</a>\u001b[0m test_sweet_count \u001b[39m=\u001b[39m \u001b[39msum\u001b[39m(test_sweetness)\n",
      "\u001b[1;31mTypeError\u001b[0m: unsupported operand type(s) for +: 'int' and 'str'"
     ]
    }
   ],
   "source": [
    "# Contar o número de amostras em cada classe\n",
    "train_sweet_count = sum(train_sweetness)\n",
    "valid_sweet_count = sum(valid_sweetness)\n",
    "test_sweet_count = sum(test_sweetness)"
   ]
  },
  {
   "cell_type": "code",
   "execution_count": 20,
   "metadata": {},
   "outputs": [
    {
     "name": "stdout",
     "output_type": "stream",
     "text": [
      "\n",
      "Contagem de sweetness (1) e not sweets (0) nos conjuntos de treino, validação e teste:\n"
     ]
    },
    {
     "ename": "NameError",
     "evalue": "name 'train_sweet_count' is not defined",
     "output_type": "error",
     "traceback": [
      "\u001b[1;31m---------------------------------------------------------------------------\u001b[0m",
      "\u001b[1;31mNameError\u001b[0m                                 Traceback (most recent call last)",
      "\u001b[1;32mc:\\Users\\Mariana\\si\\scripts\\class_12_compounds_rnn_cnn_gnn_exercises.ipynb Cell 10\u001b[0m line \u001b[0;36m3\n\u001b[0;32m      <a href='vscode-notebook-cell:/c%3A/Users/Mariana/si/scripts/class_12_compounds_rnn_cnn_gnn_exercises.ipynb#W3sZmlsZQ%3D%3D?line=0'>1</a>\u001b[0m \u001b[39m# Verificar o balanceamento\u001b[39;00m\n\u001b[0;32m      <a href='vscode-notebook-cell:/c%3A/Users/Mariana/si/scripts/class_12_compounds_rnn_cnn_gnn_exercises.ipynb#W3sZmlsZQ%3D%3D?line=1'>2</a>\u001b[0m \u001b[39mprint\u001b[39m(\u001b[39m\"\u001b[39m\u001b[39m\\n\u001b[39;00m\u001b[39mContagem de sweetness (1) e not sweets (0) nos conjuntos de treino, validação e teste:\u001b[39m\u001b[39m\"\u001b[39m)\n\u001b[1;32m----> <a href='vscode-notebook-cell:/c%3A/Users/Mariana/si/scripts/class_12_compounds_rnn_cnn_gnn_exercises.ipynb#W3sZmlsZQ%3D%3D?line=2'>3</a>\u001b[0m \u001b[39mprint\u001b[39m(\u001b[39mf\u001b[39m\u001b[39m\"\u001b[39m\u001b[39mTreino - sweets: \u001b[39m\u001b[39m{\u001b[39;00mtrain_sweet_count\u001b[39m}\u001b[39;00m\u001b[39m, not sweets: \u001b[39m\u001b[39m{\u001b[39;00m\u001b[39mlen\u001b[39m(train_data)\u001b[39m \u001b[39m\u001b[39m-\u001b[39m\u001b[39m \u001b[39mtrain_sweet_count\u001b[39m}\u001b[39;00m\u001b[39m\"\u001b[39m)\n\u001b[0;32m      <a href='vscode-notebook-cell:/c%3A/Users/Mariana/si/scripts/class_12_compounds_rnn_cnn_gnn_exercises.ipynb#W3sZmlsZQ%3D%3D?line=3'>4</a>\u001b[0m \u001b[39mprint\u001b[39m(\u001b[39mf\u001b[39m\u001b[39m\"\u001b[39m\u001b[39mValidação - sweets: \u001b[39m\u001b[39m{\u001b[39;00mvalid_sweet_count\u001b[39m}\u001b[39;00m\u001b[39m, not sweets: \u001b[39m\u001b[39m{\u001b[39;00m\u001b[39mlen\u001b[39m(valid_data)\u001b[39m \u001b[39m\u001b[39m-\u001b[39m\u001b[39m \u001b[39mvalid_sweet_count\u001b[39m}\u001b[39;00m\u001b[39m\"\u001b[39m)\n\u001b[0;32m      <a href='vscode-notebook-cell:/c%3A/Users/Mariana/si/scripts/class_12_compounds_rnn_cnn_gnn_exercises.ipynb#W3sZmlsZQ%3D%3D?line=4'>5</a>\u001b[0m \u001b[39mprint\u001b[39m(\u001b[39mf\u001b[39m\u001b[39m\"\u001b[39m\u001b[39mTeste - sweets: \u001b[39m\u001b[39m{\u001b[39;00mtest_sweet_count\u001b[39m}\u001b[39;00m\u001b[39m, not sweets: \u001b[39m\u001b[39m{\u001b[39;00m\u001b[39mlen\u001b[39m(test_data)\u001b[39m \u001b[39m\u001b[39m-\u001b[39m\u001b[39m \u001b[39mtest_sweet_count\u001b[39m}\u001b[39;00m\u001b[39m\"\u001b[39m)\n",
      "\u001b[1;31mNameError\u001b[0m: name 'train_sweet_count' is not defined"
     ]
    }
   ],
   "source": [
    "# Verificar o balanceamento\n",
    "print(\"\\nContagem de sweetness (1) e not sweets (0) nos conjuntos de treino, validação e teste:\")\n",
    "print(f\"Treino - sweets: {train_sweet_count}, not sweets: {len(train_data) - train_sweet_count}\")\n",
    "print(f\"Validação - sweets: {valid_sweet_count}, not sweets: {len(valid_data) - valid_sweet_count}\")\n",
    "print(f\"Teste - sweets: {test_sweet_count}, not sweets: {len(test_data) - test_sweet_count}\")\n"
   ]
  },
  {
   "cell_type": "markdown",
   "metadata": {},
   "source": [
    "**Ex.2**. Standardize the SMILES representation of the compounds and shuffle the different splits of the dataset."
   ]
  },
  {
   "cell_type": "code",
   "execution_count": null,
   "metadata": {},
   "outputs": [],
   "source": [
    "\n"
   ]
  },
  {
   "cell_type": "markdown",
   "metadata": {},
   "source": [
    "**Ex.3**. Encode the SMILES representation of the compounds using character encoding. Do not forget to observe the lengths' distribution of the SMILES and to add padding after."
   ]
  },
  {
   "cell_type": "code",
   "execution_count": null,
   "metadata": {},
   "outputs": [],
   "source": []
  },
  {
   "cell_type": "markdown",
   "metadata": {},
   "source": [
    "**Ex.4**. Create a model using RNNs to classify the compounds. Feel free to use any type of RNNs and layers (e.g. LSTM, GRU, etc.). Do not forget to compile the model."
   ]
  },
  {
   "cell_type": "code",
   "execution_count": null,
   "metadata": {},
   "outputs": [],
   "source": []
  },
  {
   "cell_type": "markdown",
   "metadata": {},
   "source": [
    "**Ex.5**. Train the model using the training set and validate it using the validation set. Do not forget to use early stopping and save the best model using model checkpoint."
   ]
  },
  {
   "cell_type": "code",
   "execution_count": null,
   "metadata": {},
   "outputs": [],
   "source": []
  },
  {
   "cell_type": "markdown",
   "metadata": {},
   "source": [
    "**Ex.6**. Evaluate the model using the test set. Print the accuracy, precision, recall and F1-score of the model."
   ]
  },
  {
   "cell_type": "code",
   "execution_count": null,
   "metadata": {},
   "outputs": [],
   "source": []
  },
  {
   "cell_type": "markdown",
   "metadata": {},
   "source": [
    "**Ex.7**. Save the best model and fitted tokenizer."
   ]
  },
  {
   "cell_type": "code",
   "execution_count": null,
   "metadata": {},
   "outputs": [],
   "source": []
  },
  {
   "cell_type": "markdown",
   "metadata": {
    "collapsed": false
   },
   "source": [
    "**Ex.8**. Create a model using 1D CNNs."
   ]
  },
  {
   "cell_type": "code",
   "execution_count": null,
   "metadata": {
    "collapsed": false
   },
   "outputs": [],
   "source": []
  },
  {
   "cell_type": "markdown",
   "metadata": {
    "collapsed": false
   },
   "source": [
    "**Ex.9.** Train the model using the training set and validate it using the validation set. Do not forget to use early stopping and save the best model using model checkpoint."
   ]
  },
  {
   "cell_type": "code",
   "execution_count": null,
   "metadata": {
    "collapsed": false
   },
   "outputs": [],
   "source": []
  },
  {
   "cell_type": "markdown",
   "metadata": {
    "collapsed": false
   },
   "source": [
    "**Ex.10.** Evaluate the model using the test set. Print the accuracy, precision, recall and F1-score of the model."
   ]
  },
  {
   "cell_type": "code",
   "execution_count": null,
   "metadata": {
    "ExecuteTime": {
     "end_time": "2023-12-01T17:37:12.416205135Z",
     "start_time": "2023-12-01T17:37:12.416003105Z"
    },
    "collapsed": false
   },
   "outputs": [],
   "source": []
  },
  {
   "cell_type": "markdown",
   "metadata": {
    "collapsed": false
   },
   "source": [
    "**Ex.11.** Save the best model."
   ]
  },
  {
   "cell_type": "code",
   "execution_count": null,
   "metadata": {
    "ExecuteTime": {
     "end_time": "2023-12-01T17:37:12.416489469Z",
     "start_time": "2023-12-01T17:37:12.416165406Z"
    },
    "collapsed": false
   },
   "outputs": [],
   "source": []
  },
  {
   "cell_type": "markdown",
   "metadata": {
    "collapsed": false
   },
   "source": [
    "**Ex.12.** Create the adjacency and node features matrices of the compounds."
   ]
  },
  {
   "cell_type": "code",
   "execution_count": null,
   "metadata": {
    "ExecuteTime": {
     "end_time": "2023-12-01T17:37:12.417812513Z",
     "start_time": "2023-12-01T17:37:12.416296286Z"
    },
    "collapsed": false
   },
   "outputs": [],
   "source": []
  },
  {
   "cell_type": "markdown",
   "metadata": {
    "collapsed": false
   },
   "source": [
    "**Ex.13.** Implement and train a GNN model."
   ]
  },
  {
   "cell_type": "code",
   "execution_count": null,
   "metadata": {
    "collapsed": false
   },
   "outputs": [],
   "source": []
  },
  {
   "cell_type": "markdown",
   "metadata": {
    "collapsed": false
   },
   "source": [
    "Ex.14. Evaluate the model using the test set. Print the accuracy, precision, recall and F1-score of the model."
   ]
  },
  {
   "cell_type": "code",
   "execution_count": null,
   "metadata": {
    "collapsed": false
   },
   "outputs": [],
   "source": []
  }
 ],
 "metadata": {
  "kernelspec": {
   "display_name": "AILS",
   "language": "python",
   "name": "python3"
  },
  "language_info": {
   "codemirror_mode": {
    "name": "ipython",
    "version": 3
   },
   "file_extension": ".py",
   "mimetype": "text/x-python",
   "name": "python",
   "nbconvert_exporter": "python",
   "pygments_lexer": "ipython3",
   "version": "3.10.7"
  },
  "orig_nbformat": 4
 },
 "nbformat": 4,
 "nbformat_minor": 2
}
