{
 "cells": [
  {
   "cell_type": "markdown",
   "metadata": {},
   "source": [
    "# Evaluation 9 and 10\n",
    "\n",
    "#### Exercise 12: Dropout layer\n",
    "A dropout layer in NNs is a regularization technique where a random set of neurons is temporarily ignored (dropped out) during training, helping prevent overfitting by promoting robustness and generalization in the model.\n",
    "\n",
    "\n",
    "12.1) Add a new layer named Dropout to the layers module; Take into consideration the following structure"
   ]
  },
  {
   "cell_type": "code",
   "execution_count": 1,
   "metadata": {},
   "outputs": [],
   "source": [
    "# Pasta \"si\", sub-pasta \"neural_networks\", ficheiro \"layers.py\""
   ]
  },
  {
   "cell_type": "markdown",
   "metadata": {},
   "source": [
    "12.2) Test the layer with a random input and check if the output shows the desired behaviour"
   ]
  },
  {
   "cell_type": "code",
   "execution_count": 2,
   "metadata": {},
   "outputs": [],
   "source": [
    "# Pasta \"scripts\", sub-pasta \"Tests\", notebook \"test_droupoutlayer\""
   ]
  },
  {
   "cell_type": "markdown",
   "metadata": {},
   "source": [
    "#### Exercise 13: TanhActivation and SoftmaxActivation classes\n",
    "The tanh activation layer in NNs applies the hyperbolic tangent function to the output of neurons, squashing the values to the range of -1 to 1. \n",
    "The softmax activation layer in NNs transforms the raw output scores into a probability distribution (that sums to 1), making it suitable for multi-class classification problems.\n",
    "\n",
    "\n",
    "13.1) Add a new activation class named TanhActivation to the \"activation\" module."
   ]
  },
  {
   "cell_type": "code",
   "execution_count": 3,
   "metadata": {},
   "outputs": [],
   "source": [
    "# Pasta \"si\", sub-pasta \"neural_networks\", ficheiro \"activation.py\""
   ]
  },
  {
   "cell_type": "markdown",
   "metadata": {},
   "source": [
    "13.2) Add a new activation class named SoftmaxActivation to the \"activation\" module."
   ]
  },
  {
   "cell_type": "code",
   "execution_count": 4,
   "metadata": {},
   "outputs": [],
   "source": [
    "# Pasta \"si\", sub-pasta \"neural_networks\", ficheiro \"activation.py\""
   ]
  },
  {
   "cell_type": "markdown",
   "metadata": {},
   "source": [
    "#### Exercise 14: CategoricalCrossEntropy Class\n",
    "The categorical cross-entropy loss function in neural NNs is applied to multi-class classification problems. It measures the\n",
    "dissimilarity between predicted class probabilities and true one-hot encoded class labels;\n",
    "\n",
    "14.1) Add a new loss function named CategoricalCrossEntropy to the losses module."
   ]
  },
  {
   "cell_type": "code",
   "execution_count": 5,
   "metadata": {},
   "outputs": [],
   "source": [
    "# Pasta \"si\", sub-pasta \"neural_networks\", ficheiro \"losses.py\""
   ]
  },
  {
   "cell_type": "markdown",
   "metadata": {},
   "source": [
    "#### Exercise 15: Adam class\n",
    "\n",
    "Adam can be looked at as a combination of RMSprop and SGD with momentum. It uses the squared gradients to scale the learning rate like RMSprop and it takes advantage of momentum by using moving average of the gradient instead of gradient itself like SGD with momentum.\n",
    "\n",
    "15.1) Add a new optimizer named Adam to the optimizers module."
   ]
  },
  {
   "cell_type": "code",
   "execution_count": 6,
   "metadata": {},
   "outputs": [],
   "source": [
    "# Pasta \"si\", sub-pasta \"neural_networks\", ficheiro \"optimizers.py\""
   ]
  },
  {
   "cell_type": "markdown",
   "metadata": {},
   "source": [
    "#### Exercise 16:\n",
    "\n",
    "16.1) Build , train and evaluate a neural network\n",
    "• Build, train and evaluate a NN based on the following instructions:\n",
    "- The training dataset has 32 features\n",
    "- The task is binary classification\n",
    "- Use the SGD optimizer\n",
    "- Use the BinaryCrossEntropy loss\n",
    "- Use the accuracy metric\n",
    "- The model should contain:\n",
    "    • Dense layer 1\n",
    "    • ReLU activation layer 1\n",
    "    • Dense layer 2\n",
    "    • ReLU activation layer 2\n",
    "    • Output Dense layer\n",
    "    • Sigmoid activation layer\n",
    "- The dense layers should reduce the number of units to half except the last one\n",
    "- Train the NN for 100 epochs , with batch size of 16 with a learning rate of 0.01.\n",
    "- Test the model on na independent test set ( you can create a random train and test set using numpy)."
   ]
  },
  {
   "cell_type": "code",
   "execution_count": 7,
   "metadata": {},
   "outputs": [],
   "source": [
    "#importação dos packages necessários\n",
    "from si.neural_networks.neural_network import NeuralNetwork\n",
    "from si.neural_networks.layers import DenseLayer\n",
    "from si.neural_networks.activation import ReLUActivation, SigmoidActivation\n",
    "from si.neural_networks.losses import BinaryCrossEntropy\n",
    "from si.neural_networks.optimizers import SGD\n",
    "from si.metrics.accuracy import accuracy\n",
    "from si.data.dataset import Dataset\n",
    "from si.model_selection.split import train_test_split\n",
    "import numpy as np"
   ]
  },
  {
   "cell_type": "code",
   "execution_count": 8,
   "metadata": {},
   "outputs": [
    {
     "data": {
      "text/plain": [
       "(200, 32)"
      ]
     },
     "execution_count": 8,
     "metadata": {},
     "output_type": "execute_result"
    }
   ],
   "source": [
    "# Gerar os dados de forma aleatória:\n",
    "x = np.random.randn(200, 32)  #Cria a variável x composta por uma matriz de 200 linhas e 32 colunas - 200 amostras e 32 colunas (array)\n",
    "y = np.random.randint(0, 2, size=(200, 1))  #Cria a variável y composta por uma matriz de números aleatórios inteiros no intervalo de \n",
    "#0 (inclusivo) a 2 (exclusivo), tamanho de 200 amostras de 1 coluna (array)\n",
    "\n",
    "dataset = Dataset(x, y) #cria a variável dataset onde é gerado um Dataset com os valores das variáveis x e y\n",
    "\n",
    "dataset.shape() #200 linhas e 32 colunas"
   ]
  },
  {
   "cell_type": "code",
   "execution_count": 9,
   "metadata": {},
   "outputs": [],
   "source": [
    "#Divisão dos dados em conjunto de dados de treino e dados de teste usando a função train_test_split:\n",
    "train_dataset, test_dataset = train_test_split(dataset, test_size=0.2, random_state=42) #o tamanho do conjunto de teste foi definido como 20% do tamanho total do \n",
    "#conjunto de dados. Ou seja, 80% dos dados serão usados para treino."
   ]
  },
  {
   "cell_type": "code",
   "execution_count": 10,
   "metadata": {},
   "outputs": [
    {
     "data": {
      "text/plain": [
       "<si.neural_networks.neural_network.NeuralNetwork at 0x2590263a2c0>"
      ]
     },
     "execution_count": 10,
     "metadata": {},
     "output_type": "execute_result"
    }
   ],
   "source": [
    "#Construção da rede neuronal\n",
    "model = NeuralNetwork(epochs=100, batch_size=16, optimizer=SGD, learning_rate=0.01, verbose=True,\n",
    "                        loss=BinaryCrossEntropy, metric=accuracy)\n",
    "n_features = dataset.X.shape[1]\n",
    "model.add(DenseLayer(32, (n_features,)))  # Camada densa 1\n",
    "model.add(ReLUActivation())                  # Ativação ReLU 1\n",
    "model.add(DenseLayer(16))                     # Camada densa 2\n",
    "model.add(ReLUActivation())                  # Ativação ReLU 2\n",
    "model.add(DenseLayer(1))                     # Camada de saída\n",
    "model.add(SigmoidActivation())"
   ]
  },
  {
   "cell_type": "code",
   "execution_count": 11,
   "metadata": {},
   "outputs": [
    {
     "name": "stdout",
     "output_type": "stream",
     "text": [
      "Epoch 1/100 - loss: 128.0166 - accuracy: 0.5437\n",
      "Epoch 2/100 - loss: 104.8964 - accuracy: 0.6062\n",
      "Epoch 3/100 - loss: 101.5525 - accuracy: 0.6562\n",
      "Epoch 4/100 - loss: 86.2537 - accuracy: 0.7250\n",
      "Epoch 5/100 - loss: 84.6443 - accuracy: 0.7312\n",
      "Epoch 6/100 - loss: 74.4167 - accuracy: 0.8063\n",
      "Epoch 7/100 - loss: 65.9687 - accuracy: 0.8562\n",
      "Epoch 8/100 - loss: 57.1085 - accuracy: 0.8625\n",
      "Epoch 9/100 - loss: 48.7115 - accuracy: 0.9000\n",
      "Epoch 10/100 - loss: 39.7189 - accuracy: 0.9375\n",
      "Epoch 11/100 - loss: 35.1182 - accuracy: 0.9500\n",
      "Epoch 12/100 - loss: 27.5529 - accuracy: 0.9688\n",
      "Epoch 13/100 - loss: 22.3266 - accuracy: 0.9812\n",
      "Epoch 14/100 - loss: 18.2103 - accuracy: 0.9875\n",
      "Epoch 15/100 - loss: 15.1538 - accuracy: 0.9875\n",
      "Epoch 16/100 - loss: 12.1248 - accuracy: 0.9875\n",
      "Epoch 17/100 - loss: 10.5352 - accuracy: 0.9875\n",
      "Epoch 18/100 - loss: 8.8172 - accuracy: 1.0000\n",
      "Epoch 19/100 - loss: 7.6096 - accuracy: 1.0000\n",
      "Epoch 20/100 - loss: 6.4782 - accuracy: 1.0000\n",
      "Epoch 21/100 - loss: 5.5041 - accuracy: 1.0000\n",
      "Epoch 22/100 - loss: 4.8777 - accuracy: 1.0000\n",
      "Epoch 23/100 - loss: 4.2824 - accuracy: 1.0000\n",
      "Epoch 24/100 - loss: 3.8365 - accuracy: 1.0000\n",
      "Epoch 25/100 - loss: 3.4210 - accuracy: 1.0000\n",
      "Epoch 26/100 - loss: 3.0850 - accuracy: 1.0000\n",
      "Epoch 27/100 - loss: 2.8119 - accuracy: 1.0000\n",
      "Epoch 28/100 - loss: 2.5814 - accuracy: 1.0000\n",
      "Epoch 29/100 - loss: 2.3633 - accuracy: 1.0000\n",
      "Epoch 30/100 - loss: 2.1934 - accuracy: 1.0000\n",
      "Epoch 31/100 - loss: 2.0220 - accuracy: 1.0000\n",
      "Epoch 32/100 - loss: 1.8986 - accuracy: 1.0000\n",
      "Epoch 33/100 - loss: 1.7727 - accuracy: 1.0000\n",
      "Epoch 34/100 - loss: 1.6484 - accuracy: 1.0000\n",
      "Epoch 35/100 - loss: 1.5603 - accuracy: 1.0000\n",
      "Epoch 36/100 - loss: 1.4694 - accuracy: 1.0000\n",
      "Epoch 37/100 - loss: 1.3799 - accuracy: 1.0000\n",
      "Epoch 38/100 - loss: 1.3110 - accuracy: 1.0000\n",
      "Epoch 39/100 - loss: 1.2409 - accuracy: 1.0000\n",
      "Epoch 40/100 - loss: 1.1848 - accuracy: 1.0000\n",
      "Epoch 41/100 - loss: 1.1208 - accuracy: 1.0000\n",
      "Epoch 42/100 - loss: 1.0645 - accuracy: 1.0000\n",
      "Epoch 43/100 - loss: 1.0173 - accuracy: 1.0000\n",
      "Epoch 44/100 - loss: 0.9728 - accuracy: 1.0000\n",
      "Epoch 45/100 - loss: 0.9332 - accuracy: 1.0000\n",
      "Epoch 46/100 - loss: 0.8914 - accuracy: 1.0000\n",
      "Epoch 47/100 - loss: 0.8607 - accuracy: 1.0000\n",
      "Epoch 48/100 - loss: 0.8253 - accuracy: 1.0000\n",
      "Epoch 49/100 - loss: 0.7889 - accuracy: 1.0000\n",
      "Epoch 50/100 - loss: 0.7622 - accuracy: 1.0000\n",
      "Epoch 51/100 - loss: 0.7365 - accuracy: 1.0000\n",
      "Epoch 52/100 - loss: 0.7124 - accuracy: 1.0000\n",
      "Epoch 53/100 - loss: 0.6865 - accuracy: 1.0000\n",
      "Epoch 54/100 - loss: 0.6637 - accuracy: 1.0000\n",
      "Epoch 55/100 - loss: 0.6413 - accuracy: 1.0000\n",
      "Epoch 56/100 - loss: 0.6241 - accuracy: 1.0000\n",
      "Epoch 57/100 - loss: 0.6042 - accuracy: 1.0000\n",
      "Epoch 58/100 - loss: 0.5883 - accuracy: 1.0000\n",
      "Epoch 59/100 - loss: 0.5692 - accuracy: 1.0000\n",
      "Epoch 60/100 - loss: 0.5518 - accuracy: 1.0000\n",
      "Epoch 61/100 - loss: 0.5377 - accuracy: 1.0000\n",
      "Epoch 62/100 - loss: 0.5223 - accuracy: 1.0000\n",
      "Epoch 63/100 - loss: 0.5084 - accuracy: 1.0000\n",
      "Epoch 64/100 - loss: 0.4952 - accuracy: 1.0000\n",
      "Epoch 65/100 - loss: 0.4820 - accuracy: 1.0000\n",
      "Epoch 66/100 - loss: 0.4700 - accuracy: 1.0000\n",
      "Epoch 67/100 - loss: 0.4594 - accuracy: 1.0000\n",
      "Epoch 68/100 - loss: 0.4468 - accuracy: 1.0000\n",
      "Epoch 69/100 - loss: 0.4370 - accuracy: 1.0000\n",
      "Epoch 70/100 - loss: 0.4265 - accuracy: 1.0000\n",
      "Epoch 71/100 - loss: 0.4168 - accuracy: 1.0000\n",
      "Epoch 72/100 - loss: 0.4079 - accuracy: 1.0000\n",
      "Epoch 73/100 - loss: 0.3980 - accuracy: 1.0000\n",
      "Epoch 74/100 - loss: 0.3899 - accuracy: 1.0000\n",
      "Epoch 75/100 - loss: 0.3811 - accuracy: 1.0000\n",
      "Epoch 76/100 - loss: 0.3734 - accuracy: 1.0000\n",
      "Epoch 77/100 - loss: 0.3654 - accuracy: 1.0000\n",
      "Epoch 78/100 - loss: 0.3571 - accuracy: 1.0000\n",
      "Epoch 79/100 - loss: 0.3507 - accuracy: 1.0000\n",
      "Epoch 80/100 - loss: 0.3443 - accuracy: 1.0000\n",
      "Epoch 81/100 - loss: 0.3370 - accuracy: 1.0000\n",
      "Epoch 82/100 - loss: 0.3303 - accuracy: 1.0000\n",
      "Epoch 83/100 - loss: 0.3249 - accuracy: 1.0000\n",
      "Epoch 84/100 - loss: 0.3188 - accuracy: 1.0000\n",
      "Epoch 85/100 - loss: 0.3125 - accuracy: 1.0000\n",
      "Epoch 86/100 - loss: 0.3071 - accuracy: 1.0000\n",
      "Epoch 87/100 - loss: 0.3013 - accuracy: 1.0000\n",
      "Epoch 88/100 - loss: 0.2964 - accuracy: 1.0000\n",
      "Epoch 89/100 - loss: 0.2909 - accuracy: 1.0000\n",
      "Epoch 90/100 - loss: 0.2858 - accuracy: 1.0000\n",
      "Epoch 91/100 - loss: 0.2813 - accuracy: 1.0000\n",
      "Epoch 92/100 - loss: 0.2767 - accuracy: 1.0000\n",
      "Epoch 93/100 - loss: 0.2718 - accuracy: 1.0000\n",
      "Epoch 94/100 - loss: 0.2676 - accuracy: 1.0000\n",
      "Epoch 95/100 - loss: 0.2634 - accuracy: 1.0000\n",
      "Epoch 96/100 - loss: 0.2588 - accuracy: 1.0000\n",
      "Epoch 97/100 - loss: 0.2549 - accuracy: 1.0000\n",
      "Epoch 98/100 - loss: 0.2511 - accuracy: 1.0000\n",
      "Epoch 99/100 - loss: 0.2475 - accuracy: 1.0000\n",
      "Epoch 100/100 - loss: 0.2433 - accuracy: 1.0000\n"
     ]
    },
    {
     "data": {
      "text/plain": [
       "<si.neural_networks.neural_network.NeuralNetwork at 0x2590263a2c0>"
      ]
     },
     "execution_count": 11,
     "metadata": {},
     "output_type": "execute_result"
    }
   ],
   "source": [
    "#Treino do modelo\n",
    "model.fit(train_dataset)"
   ]
  },
  {
   "cell_type": "code",
   "execution_count": 12,
   "metadata": {},
   "outputs": [
    {
     "name": "stdout",
     "output_type": "stream",
     "text": [
      "[[0.80891415]\n",
      " [0.99999973]\n",
      " [0.00192588]]\n"
     ]
    }
   ],
   "source": [
    "out = model.predict(test_dataset)\n",
    "print(out[:3])"
   ]
  },
  {
   "cell_type": "code",
   "execution_count": 13,
   "metadata": {},
   "outputs": [
    {
     "name": "stdout",
     "output_type": "stream",
     "text": [
      "Test score: 0.5\n"
     ]
    }
   ],
   "source": [
    "#avaliação do modelo\n",
    "score = model.score(test_dataset)\n",
    "print(f'Test score: {score}')"
   ]
  }
 ],
 "metadata": {
  "kernelspec": {
   "display_name": "Python 3",
   "language": "python",
   "name": "python3"
  },
  "language_info": {
   "codemirror_mode": {
    "name": "ipython",
    "version": 3
   },
   "file_extension": ".py",
   "mimetype": "text/x-python",
   "name": "python",
   "nbconvert_exporter": "python",
   "pygments_lexer": "ipython3",
   "version": "3.10.7"
  }
 },
 "nbformat": 4,
 "nbformat_minor": 2
}
