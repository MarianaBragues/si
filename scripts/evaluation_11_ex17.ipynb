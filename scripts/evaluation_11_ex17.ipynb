{
 "cells": [
  {
   "cell_type": "markdown",
   "metadata": {},
   "source": [
    "# Evaluation 11\n",
    "\n",
    "#### Exercise 17: Implementing One Hot Encoding\n",
    "Add a new module named \"one_hot_encoder.py\" to a new sub package named encoding"
   ]
  },
  {
   "cell_type": "code",
   "execution_count": null,
   "metadata": {},
   "outputs": [],
   "source": [
    "# pasta \"si\", sub-pasta \"encoding\", ficheiro \"one_hot_encoder.py\""
   ]
  }
 ],
 "metadata": {
  "kernelspec": {
   "display_name": "Python 3",
   "language": "python",
   "name": "python3"
  },
  "language_info": {
   "name": "python",
   "version": "3.10.7"
  }
 },
 "nbformat": 4,
 "nbformat_minor": 2
}
