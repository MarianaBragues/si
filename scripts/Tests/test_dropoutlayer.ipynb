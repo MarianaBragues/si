{
 "cells": [
  {
   "cell_type": "markdown",
   "metadata": {},
   "source": [
    "# Test Dropout Layer:\n",
    "\n",
    "#### Test the layer with a random input and check if the output shows the desired behaviour"
   ]
  },
  {
   "cell_type": "code",
   "execution_count": 2,
   "metadata": {},
   "outputs": [],
   "source": [
    "import numpy as np\n",
    "from si.neural_networks.layers import Layer\n",
    "from si.neural_networks.layers import Dropout"
   ]
  },
  {
   "cell_type": "code",
   "execution_count": 3,
   "metadata": {},
   "outputs": [
    {
     "name": "stdout",
     "output_type": "stream",
     "text": [
      "Output during training:\n",
      " [[-0.53965069  0.         -0.         -2.25443566]\n",
      " [ 3.54917494  0.         -0.          0.97409324]\n",
      " [-0.         -0.         -0.         -0.        ]]\n",
      "\n",
      "Output during inference:\n",
      " [[-0.26982534  1.27371535 -0.03844851 -1.12721783]\n",
      " [ 1.77458747  1.24863656 -0.84723502  0.48704662]\n",
      " [-0.7379615  -0.64764121 -1.6805602  -0.94340929]]\n",
      "\n",
      "Backpropagated error:\n",
      " [[-0.09625545 -0.         -0.         -1.57651208]\n",
      " [-0.02654511  0.         -0.          0.87639661]\n",
      " [-0.          0.         -0.         -0.        ]]\n"
     ]
    }
   ],
   "source": [
    "# Create an instance of the DropoutLayer\n",
    "dropout = Dropout(probability=0.5)\n",
    "\n",
    "# Generate random input data\n",
    "input = np.random.randn(3, 4)  # Example random input data of shape (3, 4)\n",
    "\n",
    "# Forward propagation during training mode\n",
    "output_training = dropout.forward_propagation(input, training=True)\n",
    "print(\"Output during training:\\n\", output_training)\n",
    "\n",
    "# Forward propagation during inference mode\n",
    "output_inference = dropout.forward_propagation(input, training=False)\n",
    "print(\"\\nOutput during inference:\\n\", output_inference)\n",
    "\n",
    "# Generate random output error for backward propagation\n",
    "error = np.random.randn(3, 4)  # Example error signal of the same shape as the output\n",
    "backprop_error = dropout.backward_propagation(error)\n",
    "print(\"\\nBackpropagated error:\\n\", backprop_error)\n"
   ]
  }
 ],
 "metadata": {
  "kernelspec": {
   "display_name": "Python 3",
   "language": "python",
   "name": "python3"
  },
  "language_info": {
   "codemirror_mode": {
    "name": "ipython",
    "version": 3
   },
   "file_extension": ".py",
   "mimetype": "text/x-python",
   "name": "python",
   "nbconvert_exporter": "python",
   "pygments_lexer": "ipython3",
   "version": "3.10.7"
  }
 },
 "nbformat": 4,
 "nbformat_minor": 2
}
