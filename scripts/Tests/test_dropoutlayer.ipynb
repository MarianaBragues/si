{
 "cells": [
  {
   "cell_type": "markdown",
   "metadata": {},
   "source": [
    "# Test Dropout Layer:\n",
    "\n",
    "#### Test the layer with a random input and check if the output shows the desired behaviour"
   ]
  },
  {
   "cell_type": "code",
   "execution_count": 1,
   "metadata": {},
   "outputs": [],
   "source": [
    "import numpy as np\n",
    "from si.neural_networks.layers import Layer\n",
    "from si.neural_networks.layers import Dropout"
   ]
  },
  {
   "cell_type": "code",
   "execution_count": 2,
   "metadata": {},
   "outputs": [
    {
     "name": "stdout",
     "output_type": "stream",
     "text": [
      "Output during training:\n",
      " [[-0.         -0.39103806 -0.84365538 -0.10995756]\n",
      " [-0.          0.         -0.          0.07833729]\n",
      " [ 2.10062119  1.71373984 -0.         -0.        ]]\n",
      "\n",
      "Output during inference:\n",
      " [[-1.57361476 -0.19551903 -0.42182769 -0.05497878]\n",
      " [-0.20439621  0.97621499 -1.78316815  0.03916864]\n",
      " [ 1.0503106   0.85686992 -0.22780701 -0.21746922]]\n",
      "\n",
      "Backpropagated error:\n",
      " [[ 0.         -0.98093799 -0.14360993  0.83684782]\n",
      " [ 0.          0.         -0.         -0.63988878]\n",
      " [ 0.25924941  0.29368104  0.          0.        ]]\n"
     ]
    }
   ],
   "source": [
    "# Create an instance of the DropoutLayer\n",
    "dropout = Dropout(probability=0.5)\n",
    "\n",
    "# Generate random input data\n",
    "input = np.random.randn(3, 4)  # Example random input data of shape (3, 4)\n",
    "\n",
    "# Forward propagation during training mode\n",
    "output_training = dropout.forward_propagation(input, training=True)\n",
    "print(\"Output during training:\\n\", output_training)\n",
    "\n",
    "# Forward propagation during inference mode\n",
    "output_inference = dropout.forward_propagation(input, training=False)\n",
    "print(\"\\nOutput during inference:\\n\", output_inference)\n",
    "\n",
    "# Generate random output error for backward propagation\n",
    "error = np.random.randn(3, 4)  # Example error signal of the same shape as the output\n",
    "backprop_error = dropout.backward_propagation(error)\n",
    "print(\"\\nBackpropagated error:\\n\", backprop_error)\n"
   ]
  }
 ],
 "metadata": {
  "kernelspec": {
   "display_name": "Python 3",
   "language": "python",
   "name": "python3"
  },
  "language_info": {
   "codemirror_mode": {
    "name": "ipython",
    "version": 3
   },
   "file_extension": ".py",
   "mimetype": "text/x-python",
   "name": "python",
   "nbconvert_exporter": "python",
   "pygments_lexer": "ipython3",
   "version": "3.10.7"
  }
 },
 "nbformat": 4,
 "nbformat_minor": 2
}
