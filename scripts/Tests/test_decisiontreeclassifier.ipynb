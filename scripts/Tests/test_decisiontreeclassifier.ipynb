{
 "cells": [
  {
   "cell_type": "markdown",
   "metadata": {},
   "source": [
    "# Test DecisionTreeClassifier:\n",
    "\n",
    "#### 1. Use the iris.csv dataset"
   ]
  },
  {
   "cell_type": "code",
   "execution_count": 1,
   "metadata": {},
   "outputs": [],
   "source": [
    "from si.io.csv_file import read_csv\n",
    "import pandas as pd"
   ]
  },
  {
   "cell_type": "code",
   "execution_count": 2,
   "metadata": {},
   "outputs": [],
   "source": [
    "df_path = r\"C:\\Users\\Mariana\\si\\datasets\\iris\\iris.csv\"\n",
    "df = read_csv(df_path, sep = ',', features = True, label = True) "
   ]
  },
  {
   "cell_type": "markdown",
   "metadata": {},
   "source": [
    "#### 2. Split the data train and test"
   ]
  },
  {
   "cell_type": "code",
   "execution_count": 3,
   "metadata": {},
   "outputs": [],
   "source": [
    "from si.model_selection.split import train_test_split\n",
    "from si.models.decision_tree_classifier import DecisionTreeClassifier"
   ]
  },
  {
   "cell_type": "code",
   "execution_count": 4,
   "metadata": {},
   "outputs": [],
   "source": [
    "train_dataset, test_dataset = train_test_split(df, test_size=0.33, random_state=42)"
   ]
  },
  {
   "cell_type": "code",
   "execution_count": 9,
   "metadata": {},
   "outputs": [
    {
     "name": "stdout",
     "output_type": "stream",
     "text": [
      "(As dimensões dos dados de treino correspondem a: (101, 4)\n",
      "(As dimensões dos dados de teste correspondem a: (49, 4)\n"
     ]
    }
   ],
   "source": [
    "print(f'(As dimensões dos dados de treino correspondem a:', train_dataset.shape())\n",
    "print(f'(As dimensões dos dados de teste correspondem a:',test_dataset.shape())"
   ]
  },
  {
   "cell_type": "markdown",
   "metadata": {},
   "source": [
    "Os dados de treino apresentam 101 linhas e 4 colunas, enquanto que os dados de teste apresentam 49 linhas e 4 colunas."
   ]
  },
  {
   "cell_type": "markdown",
   "metadata": {},
   "source": [
    "#### 3. Train a Decision Tree Classifier using the training data"
   ]
  },
  {
   "cell_type": "code",
   "execution_count": 10,
   "metadata": {},
   "outputs": [
    {
     "data": {
      "text/plain": [
       "<si.models.decision_tree_classifier.DecisionTreeClassifier at 0x17244b31270>"
      ]
     },
     "execution_count": 10,
     "metadata": {},
     "output_type": "execute_result"
    }
   ],
   "source": [
    "model = DecisionTreeClassifier(min_sample_split=2, max_depth=5, mode='gini')\n",
    "model.fit(train_dataset)"
   ]
  },
  {
   "cell_type": "markdown",
   "metadata": {},
   "source": [
    "#### 4. Print the tree"
   ]
  },
  {
   "cell_type": "code",
   "execution_count": 11,
   "metadata": {},
   "outputs": [
    {
     "name": "stdout",
     "output_type": "stream",
     "text": [
      "petal_length <= 1.9\n",
      "\tleft: Iris-setosa\n",
      "\tright: petal_width <= 1.7\n",
      "\t  left: petal_length <= 5.1\n",
      "\t    left: sepal_length <= 4.9\n",
      "\t      left: sepal_width <= 2.4\n",
      "\t        left: Iris-versicolor\n",
      "\t        right: Iris-virginica\n",
      "\t      right: sepal_width <= 2.2\n",
      "\t        left: petal_length <= 4.0\n",
      "\t          left: Iris-versicolor\n",
      "\t          right: Iris-virginica\n",
      "\t        right: Iris-versicolor\n",
      "\t    right: Iris-virginica\n",
      "\t  right: petal_length <= 4.8\n",
      "\t    left: sepal_length <= 5.9\n",
      "\t      left: Iris-versicolor\n",
      "\t      right: Iris-virginica\n",
      "\t    right: Iris-virginica\n"
     ]
    }
   ],
   "source": [
    "model.print_tree()"
   ]
  },
  {
   "cell_type": "markdown",
   "metadata": {},
   "source": [
    "#### 5. Evaluate the model on the testing data"
   ]
  },
  {
   "cell_type": "code",
   "execution_count": 12,
   "metadata": {},
   "outputs": [
    {
     "name": "stdout",
     "output_type": "stream",
     "text": [
      "0.9591836734693877\n"
     ]
    }
   ],
   "source": [
    "print(model.score(test_dataset))"
   ]
  },
  {
   "cell_type": "markdown",
   "metadata": {},
   "source": [
    "O score de 0.95918 indica que o modelo obteve uma precisão de cerca de 95.9% no conjunto de dados de teste. Este valor sugere que o modelo utilizado é bastante bom para a classificação no conjunto de teste."
   ]
  }
 ],
 "metadata": {
  "kernelspec": {
   "display_name": "Python 3",
   "language": "python",
   "name": "python3"
  },
  "language_info": {
   "codemirror_mode": {
    "name": "ipython",
    "version": 3
   },
   "file_extension": ".py",
   "mimetype": "text/x-python",
   "name": "python",
   "nbconvert_exporter": "python",
   "pygments_lexer": "ipython3",
   "version": "3.10.7"
  }
 },
 "nbformat": 4,
 "nbformat_minor": 2
}
