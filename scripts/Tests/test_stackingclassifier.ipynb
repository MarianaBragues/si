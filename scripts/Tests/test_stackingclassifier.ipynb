{
 "cells": [
  {
   "cell_type": "markdown",
   "metadata": {},
   "source": [
    "# Test StackingClassifier:\n",
    "\n",
    "#### 1. Use the breast-bin.csv dataset"
   ]
  },
  {
   "cell_type": "code",
   "execution_count": 1,
   "metadata": {},
   "outputs": [],
   "source": [
    "from si.io.csv_file import read_csv"
   ]
  },
  {
   "cell_type": "code",
   "execution_count": 2,
   "metadata": {},
   "outputs": [],
   "source": [
    "df_path = r\"C:\\Users\\Mariana\\si\\datasets\\breast-bin\\breast-bin.csv\"\n",
    "df = read_csv(df_path, sep = ',', features = True, label = True) "
   ]
  },
  {
   "cell_type": "markdown",
   "metadata": {},
   "source": [
    "#### 2. Split the data into train and test sets"
   ]
  },
  {
   "cell_type": "code",
   "execution_count": 3,
   "metadata": {},
   "outputs": [],
   "source": [
    "from si.model_selection.split import train_test_split"
   ]
  },
  {
   "cell_type": "code",
   "execution_count": 4,
   "metadata": {},
   "outputs": [],
   "source": [
    "train_dataset, test_dataset = train_test_split(df, test_size=0.33, random_state=42)"
   ]
  },
  {
   "cell_type": "code",
   "execution_count": 5,
   "metadata": {},
   "outputs": [
    {
     "name": "stdout",
     "output_type": "stream",
     "text": [
      "(As dimensões dos dados de treino correspondem a: (468, 9)\n",
      "(As dimensões dos dados de teste correspondem a: (230, 9)\n"
     ]
    }
   ],
   "source": [
    "print(f'(As dimensões dos dados de treino correspondem a:', train_dataset.shape())\n",
    "print(f'(As dimensões dos dados de teste correspondem a:',test_dataset.shape())"
   ]
  },
  {
   "cell_type": "markdown",
   "metadata": {},
   "source": [
    "Os dados de treino apresentam 468 linhas e 9 colunas, enquanto que os dados de teste apresentam 230 linhas e 9 colunas."
   ]
  },
  {
   "cell_type": "markdown",
   "metadata": {},
   "source": [
    "#### 3. Create a KNNClassifier model"
   ]
  },
  {
   "cell_type": "code",
   "execution_count": 6,
   "metadata": {},
   "outputs": [],
   "source": [
    "from si.models.knn_classifier import KNNClassifier\n",
    "knn_model = KNNClassifier(k=3)"
   ]
  },
  {
   "cell_type": "markdown",
   "metadata": {},
   "source": [
    "#### 4. Create a LogisticRegression model"
   ]
  },
  {
   "cell_type": "code",
   "execution_count": 7,
   "metadata": {},
   "outputs": [],
   "source": [
    "from si.models.logistic_regression import LogisticRegression\n",
    "logistic_regression_model = LogisticRegression(l2_penalty=1, alpha=0.001, max_iter=1000)"
   ]
  },
  {
   "cell_type": "markdown",
   "metadata": {},
   "source": [
    "#### 5. Create a DecisionTree model"
   ]
  },
  {
   "cell_type": "code",
   "execution_count": 8,
   "metadata": {},
   "outputs": [],
   "source": [
    "from si.models.decision_tree_classifier import DecisionTreeClassifier\n",
    "decision_tree_model = DecisionTreeClassifier(max_depth=5)"
   ]
  },
  {
   "cell_type": "markdown",
   "metadata": {},
   "source": [
    "#### 6. Create a second KNNClassifier model (final model)"
   ]
  },
  {
   "cell_type": "code",
   "execution_count": 9,
   "metadata": {},
   "outputs": [],
   "source": [
    "knn_model_2 = "
   ]
  },
  {
   "cell_type": "markdown",
   "metadata": {},
   "source": [
    "#### 7. Create a Stacking Classifier model using the previous classifiers. The second KNNClassifier model must be used as the final model."
   ]
  },
  {
   "cell_type": "code",
   "execution_count": null,
   "metadata": {},
   "outputs": [],
   "source": [
    "from si.ensemble.stacking_classifier import StackingClassifier\n",
    "#stacking_classifier_model = StackingClassifier(train_dataset)"
   ]
  },
  {
   "cell_type": "markdown",
   "metadata": {},
   "source": [
    "#### 8. Train the StackingClassifier model. What is the score of the model on the test set?"
   ]
  },
  {
   "cell_type": "code",
   "execution_count": 17,
   "metadata": {},
   "outputs": [],
   "source": [
    "#stacking_classifier_model = StackingClassifier(train_dataset)"
   ]
  },
  {
   "cell_type": "code",
   "execution_count": 16,
   "metadata": {},
   "outputs": [
    {
     "ename": "TypeError",
     "evalue": "'Dataset' object is not iterable",
     "output_type": "error",
     "traceback": [
      "\u001b[1;31m---------------------------------------------------------------------------\u001b[0m",
      "\u001b[1;31mTypeError\u001b[0m                                 Traceback (most recent call last)",
      "\u001b[1;32mc:\\Users\\Mariana\\si\\scripts\\Tests\\test_stackingclassifier.ipynb Cell 21\u001b[0m line \u001b[0;36m1\n\u001b[1;32m----> <a href='vscode-notebook-cell:/c%3A/Users/Mariana/si/scripts/Tests/test_stackingclassifier.ipynb#X21sZmlsZQ%3D%3D?line=0'>1</a>\u001b[0m score \u001b[39m=\u001b[39m stacking_classifier_model\u001b[39m.\u001b[39;49mscore(test_dataset)\n\u001b[0;32m      <a href='vscode-notebook-cell:/c%3A/Users/Mariana/si/scripts/Tests/test_stackingclassifier.ipynb#X21sZmlsZQ%3D%3D?line=1'>2</a>\u001b[0m \u001b[39mprint\u001b[39m(\u001b[39mf\u001b[39m\u001b[39m\"\u001b[39m\u001b[39mScore: \u001b[39m\u001b[39m{\u001b[39;00mscore\u001b[39m}\u001b[39;00m\u001b[39m\"\u001b[39m)\n",
      "File \u001b[1;32mc:\\Users\\Mariana\\AppData\\Local\\Programs\\Python\\Python310\\lib\\site-packages\\si-0.0.1-py3.10.egg\\si\\ensemble\\voting_classifier.py:102\u001b[0m, in \u001b[0;36mVotingClassifier.score\u001b[1;34m(self, dataset)\u001b[0m\n\u001b[0;32m     88\u001b[0m \u001b[39mdef\u001b[39;00m \u001b[39mscore\u001b[39m(\u001b[39mself\u001b[39m, dataset: Dataset) \u001b[39m-\u001b[39m\u001b[39m>\u001b[39m \u001b[39mfloat\u001b[39m:\n\u001b[0;32m     89\u001b[0m \u001b[39m    \u001b[39m\u001b[39m\"\"\"\u001b[39;00m\n\u001b[0;32m     90\u001b[0m \u001b[39m    Returns the mean accuracy on the given test data and labels.\u001b[39;00m\n\u001b[0;32m     91\u001b[0m \n\u001b[1;32m   (...)\u001b[0m\n\u001b[0;32m    100\u001b[0m \u001b[39m        Mean accuracy\u001b[39;00m\n\u001b[0;32m    101\u001b[0m \u001b[39m    \"\"\"\u001b[39;00m\n\u001b[1;32m--> 102\u001b[0m     \u001b[39mreturn\u001b[39;00m accuracy(dataset\u001b[39m.\u001b[39my, \u001b[39mself\u001b[39;49m\u001b[39m.\u001b[39;49mpredict(dataset))\n",
      "File \u001b[1;32mc:\\Users\\Mariana\\AppData\\Local\\Programs\\Python\\Python310\\lib\\site-packages\\si-0.0.1-py3.10.egg\\si\\ensemble\\voting_classifier.py:85\u001b[0m, in \u001b[0;36mVotingClassifier.predict\u001b[1;34m(self, dataset)\u001b[0m\n\u001b[0;32m     82\u001b[0m     labels, counts \u001b[39m=\u001b[39m np\u001b[39m.\u001b[39munique(pred, return_counts\u001b[39m=\u001b[39m\u001b[39mTrue\u001b[39;00m)\n\u001b[0;32m     83\u001b[0m     \u001b[39mreturn\u001b[39;00m labels[np\u001b[39m.\u001b[39margmax(counts)]\n\u001b[1;32m---> 85\u001b[0m predictions \u001b[39m=\u001b[39m np\u001b[39m.\u001b[39marray([model\u001b[39m.\u001b[39mpredict(dataset) \u001b[39mfor\u001b[39;00m model \u001b[39min\u001b[39;00m \u001b[39mself\u001b[39m\u001b[39m.\u001b[39mmodels])\u001b[39m.\u001b[39mtranspose()\n\u001b[0;32m     86\u001b[0m \u001b[39mreturn\u001b[39;00m np\u001b[39m.\u001b[39mapply_along_axis(_get_majority_vote, axis\u001b[39m=\u001b[39m\u001b[39m1\u001b[39m, arr\u001b[39m=\u001b[39mpredictions)\n",
      "\u001b[1;31mTypeError\u001b[0m: 'Dataset' object is not iterable"
     ]
    }
   ],
   "source": [
    "score = stacking_classifier_model.score(test_dataset)\n",
    "print(f\"Score: {score}\")"
   ]
  }
 ],
 "metadata": {
  "kernelspec": {
   "display_name": "Python 3",
   "language": "python",
   "name": "python3"
  },
  "language_info": {
   "codemirror_mode": {
    "name": "ipython",
    "version": 3
   },
   "file_extension": ".py",
   "mimetype": "text/x-python",
   "name": "python",
   "nbconvert_exporter": "python",
   "pygments_lexer": "ipython3",
   "version": "3.10.7"
  }
 },
 "nbformat": 4,
 "nbformat_minor": 2
}
