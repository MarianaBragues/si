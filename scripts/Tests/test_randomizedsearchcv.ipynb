{
 "cells": [
  {
   "cell_type": "markdown",
   "metadata": {},
   "source": [
    "# Test randomized search cv\n",
    "\n",
    "#### 1. Use the breast-bin.csv dataset"
   ]
  },
  {
   "cell_type": "code",
   "execution_count": 1,
   "metadata": {},
   "outputs": [],
   "source": [
    "import numpy as np\n",
    "from si.io.csv_file import read_csv"
   ]
  },
  {
   "cell_type": "code",
   "execution_count": 2,
   "metadata": {},
   "outputs": [],
   "source": [
    "df_path = r\"C:\\Users\\Mariana\\si\\datasets\\breast-bin\\breast-bin.csv\"\n",
    "df = read_csv(df_path, sep = ',', features = True, label = True) "
   ]
  },
  {
   "cell_type": "markdown",
   "metadata": {},
   "source": [
    "#### 2. Create a Logistic Regression model"
   ]
  },
  {
   "cell_type": "code",
   "execution_count": 3,
   "metadata": {},
   "outputs": [],
   "source": [
    "from si.models.logistic_regression import LogisticRegression\n",
    "lr_model = LogisticRegression()"
   ]
  },
  {
   "cell_type": "markdown",
   "metadata": {},
   "source": [
    "#### 3. Perform a randomized search with the following hyperparameter distributions:\n",
    "- l2_penalty: distribution between 1 and 10 with 10 equal intervals (e.g., np.linspace(1, 10, 10))\n",
    "- alpha: distribution between 0.001 and 0.0001 with 100 equal intervals (e.g., np.linspace(0.001, 0.0001, 100))\n",
    "- max_iter: distribution between 1000 and 2000 with 200 equal intervals (e.g., np.linspace(1000, 2000, 200))"
   ]
  },
  {
   "cell_type": "code",
   "execution_count": 4,
   "metadata": {},
   "outputs": [],
   "source": [
    "from si.model_selection.randomized_search import randomized_search_cv\n",
    "hyperparameter_grid = {\n",
    "    'l2_penalty': np.linspace(1, 10, 10),\n",
    "    'alpha': np.linspace(0.001, 0.0001, 100),\n",
    "    'max_iter': np.random.randint(1000, 2000, 200)\n",
    "}"
   ]
  },
  {
   "cell_type": "markdown",
   "metadata": {},
   "source": [
    "#### 4. Use n_iter=10 and cv=3 folds for the cross validation."
   ]
  },
  {
   "cell_type": "code",
   "execution_count": 6,
   "metadata": {},
   "outputs": [],
   "source": [
    "results = randomized_search_cv(\n",
    "    model=lr_model,\n",
    "    dataset=df,\n",
    "    hyperparameter_grid=hyperparameter_grid,\n",
    "    scoring=None,\n",
    "    cv=3,\n",
    "    n_iter=10\n",
    ")"
   ]
  },
  {
   "cell_type": "markdown",
   "metadata": {},
   "source": [
    "#### 5. Which scores do you obtain? What are the best score and best hyperparameters?"
   ]
  },
  {
   "cell_type": "code",
   "execution_count": 8,
   "metadata": {},
   "outputs": [
    {
     "data": {
      "text/plain": [
       "{'hyperparameters': [{'l2_penalty': 3.0,\n",
       "   'alpha': 0.0006363636363636364,\n",
       "   'max_iter': 1805},\n",
       "  {'l2_penalty': 1.0, 'alpha': 0.0006545454545454545, 'max_iter': 1571},\n",
       "  {'l2_penalty': 6.0, 'alpha': 0.0007, 'max_iter': 1068},\n",
       "  {'l2_penalty': 9.0, 'alpha': 0.0006181818181818182, 'max_iter': 1463},\n",
       "  {'l2_penalty': 8.0, 'alpha': 0.00018181818181818186, 'max_iter': 1835},\n",
       "  {'l2_penalty': 6.0, 'alpha': 0.00039999999999999996, 'max_iter': 1181},\n",
       "  {'l2_penalty': 4.0, 'alpha': 0.0009818181818181818, 'max_iter': 1731},\n",
       "  {'l2_penalty': 10.0, 'alpha': 0.0005636363636363636, 'max_iter': 1323},\n",
       "  {'l2_penalty': 9.0, 'alpha': 0.0007909090909090909, 'max_iter': 1147},\n",
       "  {'l2_penalty': 5.0, 'alpha': 0.0001, 'max_iter': 1068}],\n",
       " 'scores': [0.9683908045977011,\n",
       "  0.9669540229885057,\n",
       "  0.9669540229885057,\n",
       "  0.9669540229885057,\n",
       "  0.9669540229885057,\n",
       "  0.9669540229885057,\n",
       "  0.9669540229885057,\n",
       "  0.9669540229885056,\n",
       "  0.9669540229885057,\n",
       "  0.9683908045977012],\n",
       " 'best_hyperparameters': {'l2_penalty': 5.0,\n",
       "  'alpha': 0.0001,\n",
       "  'max_iter': 1068},\n",
       " 'best_score': 0.9683908045977012}"
      ]
     },
     "execution_count": 8,
     "metadata": {},
     "output_type": "execute_result"
    }
   ],
   "source": [
    "results"
   ]
  }
 ],
 "metadata": {
  "kernelspec": {
   "display_name": "Python 3",
   "language": "python",
   "name": "python3"
  },
  "language_info": {
   "codemirror_mode": {
    "name": "ipython",
    "version": 3
   },
   "file_extension": ".py",
   "mimetype": "text/x-python",
   "name": "python",
   "nbconvert_exporter": "python",
   "pygments_lexer": "ipython3",
   "version": "3.10.7"
  }
 },
 "nbformat": 4,
 "nbformat_minor": 2
}
