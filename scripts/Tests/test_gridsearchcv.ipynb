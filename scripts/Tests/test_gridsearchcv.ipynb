{
 "cells": [
  {
   "cell_type": "markdown",
   "metadata": {},
   "source": [
    "# Test grid search cv:\n",
    "\n",
    "#### 1. Use the breast-bin.csv dataset"
   ]
  },
  {
   "cell_type": "code",
   "execution_count": 1,
   "metadata": {},
   "outputs": [],
   "source": [
    "import numpy as np\n",
    "from si.io.csv_file import read_csv"
   ]
  },
  {
   "cell_type": "code",
   "execution_count": 2,
   "metadata": {},
   "outputs": [],
   "source": [
    "df_path = r\"C:\\Users\\Mariana\\si\\datasets\\breast-bin\\breast-bin.csv\"\n",
    "df = read_csv(df_path, sep = ',', features = True, label = True) "
   ]
  },
  {
   "cell_type": "markdown",
   "metadata": {},
   "source": [
    "#### 2. Create a Logistic Regression model"
   ]
  },
  {
   "cell_type": "code",
   "execution_count": 3,
   "metadata": {},
   "outputs": [],
   "source": [
    "from si.models.logistic_regression import LogisticRegression\n",
    "lr_model = LogisticRegression()"
   ]
  },
  {
   "cell_type": "markdown",
   "metadata": {},
   "source": [
    "#### 3. Perform grid search using the following hyperparameters:\n",
    "- l2_penalty: 1, 10\n",
    "- alpha: 0.001, 0.0001\n",
    "- max_iter: 1000, 2000"
   ]
  },
  {
   "cell_type": "code",
   "execution_count": 4,
   "metadata": {},
   "outputs": [],
   "source": [
    "from si.model_selection.grid_search import grid_search_cv"
   ]
  },
  {
   "cell_type": "code",
   "execution_count": 9,
   "metadata": {},
   "outputs": [
    {
     "data": {
      "text/plain": [
       "{'l2_penalty': (1, 10), 'alpha': (0.001, 0.0001), 'max_iter': (1000, 2000)}"
      ]
     },
     "execution_count": 9,
     "metadata": {},
     "output_type": "execute_result"
    }
   ],
   "source": [
    "parameter_grid = {'l2_penalty': (1, 10), 'alpha': (0.001, 0.0001), 'max_iter': (1000, 2000)}\n",
    "parameter_grid"
   ]
  },
  {
   "cell_type": "markdown",
   "metadata": {},
   "source": [
    "#### 4. Use 3 folds for the cross validation."
   ]
  },
  {
   "cell_type": "code",
   "execution_count": 10,
   "metadata": {},
   "outputs": [
    {
     "data": {
      "text/plain": [
       "{'scores': [0.9669540229885057,\n",
       "  0.9669540229885056,\n",
       "  0.9655172413793104,\n",
       "  0.9669540229885057,\n",
       "  0.9669540229885057,\n",
       "  0.9669540229885056,\n",
       "  0.9669540229885056,\n",
       "  0.9655172413793104],\n",
       " 'hyperparameters': [{'l2_penalty': 1, 'alpha': 0.001, 'max_iter': 1000},\n",
       "  {'l2_penalty': 1, 'alpha': 0.001, 'max_iter': 2000},\n",
       "  {'l2_penalty': 1, 'alpha': 0.0001, 'max_iter': 1000},\n",
       "  {'l2_penalty': 1, 'alpha': 0.0001, 'max_iter': 2000},\n",
       "  {'l2_penalty': 10, 'alpha': 0.001, 'max_iter': 1000},\n",
       "  {'l2_penalty': 10, 'alpha': 0.001, 'max_iter': 2000},\n",
       "  {'l2_penalty': 10, 'alpha': 0.0001, 'max_iter': 1000},\n",
       "  {'l2_penalty': 10, 'alpha': 0.0001, 'max_iter': 2000}],\n",
       " 'best_hyperparameters': {'l2_penalty': 1, 'alpha': 0.001, 'max_iter': 1000},\n",
       " 'best_score': 0.9669540229885057}"
      ]
     },
     "execution_count": 10,
     "metadata": {},
     "output_type": "execute_result"
    }
   ],
   "source": [
    "results = grid_search_cv(lr_model, df, hyperparameter_grid=parameter_grid, cv=3)\n",
    "results"
   ]
  },
  {
   "cell_type": "markdown",
   "metadata": {},
   "source": [
    "#### 5. Which scores do you obtain? What are the best score and best hyperparameters?"
   ]
  },
  {
   "cell_type": "code",
   "execution_count": 11,
   "metadata": {},
   "outputs": [
    {
     "name": "stdout",
     "output_type": "stream",
     "text": [
      "Scores: [0.9669540229885057, 0.9669540229885056, 0.9655172413793104, 0.9669540229885057, 0.9669540229885057, 0.9669540229885056, 0.9669540229885056, 0.9655172413793104]\n"
     ]
    }
   ],
   "source": [
    "scores = results['scores']\n",
    "print(f\"Scores: {scores}\")"
   ]
  },
  {
   "cell_type": "code",
   "execution_count": 12,
   "metadata": {},
   "outputs": [
    {
     "name": "stdout",
     "output_type": "stream",
     "text": [
      "Best score: 0.9669540229885057\n"
     ]
    }
   ],
   "source": [
    "best_score = results['best_score']\n",
    "print(f\"Best score: {best_score}\")"
   ]
  },
  {
   "cell_type": "code",
   "execution_count": 13,
   "metadata": {},
   "outputs": [
    {
     "name": "stdout",
     "output_type": "stream",
     "text": [
      "Best hyperparameters: {'l2_penalty': 1, 'alpha': 0.001, 'max_iter': 1000}\n"
     ]
    }
   ],
   "source": [
    "best_hyperparameters = results['best_hyperparameters']\n",
    "print(f\"Best hyperparameters: {best_hyperparameters}\")"
   ]
  },
  {
   "cell_type": "markdown",
   "metadata": {},
   "source": [
    "O melhor score é 0.9669 e o melhor hiperparameter é 1 para l2_penalty, 0.001 para alpha e 1000 para max_iter."
   ]
  }
 ],
 "metadata": {
  "kernelspec": {
   "display_name": "Python 3",
   "language": "python",
   "name": "python3"
  },
  "language_info": {
   "codemirror_mode": {
    "name": "ipython",
    "version": 3
   },
   "file_extension": ".py",
   "mimetype": "text/x-python",
   "name": "python",
   "nbconvert_exporter": "python",
   "pygments_lexer": "ipython3",
   "version": "3.10.7"
  }
 },
 "nbformat": 4,
 "nbformat_minor": 2
}
