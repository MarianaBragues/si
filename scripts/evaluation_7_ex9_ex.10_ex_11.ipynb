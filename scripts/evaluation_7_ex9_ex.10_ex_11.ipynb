{
 "cells": [
  {
   "cell_type": "markdown",
   "metadata": {},
   "source": [
    "# Evaluation 7\n",
    "\n",
    "#### Exercise 9: Implementing the Random Forest Classifier class\n",
    "RandomForest is an ensemble machine learning technique that combines multiple decision trees to improve prediction accuracy and reduce overfitting.\n",
    "\n",
    "\n",
    "6.1) In the \"models\" sub-package add the \"random_forest_classifier.py\" module. Implement the Random Forest Classifier class by taking in to consideration the structure of the class shown in the next slides."
   ]
  },
  {
   "cell_type": "code",
   "execution_count": 2,
   "metadata": {},
   "outputs": [],
   "source": [
    "# Pasta \"si\", sub-pasta \"models\", ficheiro \"random_forest_classifier.py\""
   ]
  },
  {
   "cell_type": "markdown",
   "metadata": {},
   "source": [
    "6.2) Test the random forest class using the following protocol:"
   ]
  },
  {
   "cell_type": "code",
   "execution_count": 1,
   "metadata": {},
   "outputs": [],
   "source": [
    "# Pasta \"scripts\", sub-pasta \"Tests\", notebook \"test_randomforestclassifier\""
   ]
  },
  {
   "cell_type": "markdown",
   "metadata": {},
   "source": [
    "#### Exercise 10: Implementing the Stacking Classifier ensemble\n",
    "\n",
    "The Stacking Classifier model harnesses an ensemble of models to generate predictions. These predictions are subsequently employed to train another model – the final model. The final model can then be used to predict the output variable (Y).\n",
    "\n",
    "6.1) In the \"ensemble\" sub-package add the \"stacking_classifier.py\" module. Implement the Stacking Classifier class by taking into consideration the structure of the class shown in the next slides."
   ]
  },
  {
   "cell_type": "code",
   "execution_count": 3,
   "metadata": {},
   "outputs": [],
   "source": [
    "# Pasta \"si\", sub-pasta \"ensemble\", ficheiro \"stacking_classifier.py\""
   ]
  },
  {
   "cell_type": "markdown",
   "metadata": {},
   "source": [
    "6.2) Test the Stacking Classifier model using the following protocol:"
   ]
  },
  {
   "cell_type": "code",
   "execution_count": 4,
   "metadata": {},
   "outputs": [],
   "source": [
    "# Pasta \"scripts\", sub-pasta \"Tests\", notebook \"test_stackingclassifier\""
   ]
  }
 ],
 "metadata": {
  "kernelspec": {
   "display_name": "Python 3",
   "language": "python",
   "name": "python3"
  },
  "language_info": {
   "codemirror_mode": {
    "name": "ipython",
    "version": 3
   },
   "file_extension": ".py",
   "mimetype": "text/x-python",
   "name": "python",
   "nbconvert_exporter": "python",
   "pygments_lexer": "ipython3",
   "version": "3.10.7"
  }
 },
 "nbformat": 4,
 "nbformat_minor": 2
}
