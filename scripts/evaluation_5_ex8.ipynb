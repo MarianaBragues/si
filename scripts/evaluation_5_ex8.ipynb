{
 "cells": [
  {
   "cell_type": "markdown",
   "metadata": {},
   "source": [
    "# Evaluation 5\n",
    "\n",
    "#### Exercise 8: Implementing RidgeRegression with Least Squares\n",
    "8.1) In the \"models\" sub-package add the \"ridge_regression_least_squares.py\" module which will contain the RidgeRegressionLeastSquates class (refer to the next slides)."
   ]
  },
  {
   "cell_type": "code",
   "execution_count": 2,
   "metadata": {},
   "outputs": [],
   "source": [
    "#Adicionado à pasta \"si\", sub-pasta \"models\", ficheiro \"ridge_regression_least_squares.py\""
   ]
  }
 ],
 "metadata": {
  "kernelspec": {
   "display_name": "Python 3",
   "language": "python",
   "name": "python3"
  },
  "language_info": {
   "codemirror_mode": {
    "name": "ipython",
    "version": 3
   },
   "file_extension": ".py",
   "mimetype": "text/x-python",
   "name": "python",
   "nbconvert_exporter": "python",
   "pygments_lexer": "ipython3",
   "version": "3.10.7"
  }
 },
 "nbformat": 4,
 "nbformat_minor": 2
}
