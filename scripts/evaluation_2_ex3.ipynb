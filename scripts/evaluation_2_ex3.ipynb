{
 "cells": [
  {
   "cell_type": "markdown",
   "metadata": {},
   "source": [
    "# Evaluation 2\n",
    "\n",
    "#### Exercise 3: Implementing SelectPercentile\n",
    "\n",
    "3.1) Add the SelectPercentile object to the feature_selection sub-package. You should create a module called \"select_percentile.py\" to implement this object.The SelectPercentile class has a similar architecture to the SelectKBest class. Consider the structure presented in the next slide."
   ]
  },
  {
   "cell_type": "code",
   "execution_count": 1,
   "metadata": {},
   "outputs": [],
   "source": [
    "#Folder feature_selection"
   ]
  },
  {
   "cell_type": "markdown",
   "metadata": {},
   "source": [
    "3.3) Test the SelectPercentile class in a Jupyter notebook using the \"iris.csv\" dataset (classification)."
   ]
  },
  {
   "cell_type": "code",
   "execution_count": 2,
   "metadata": {},
   "outputs": [],
   "source": [
    "import pandas as pd"
   ]
  },
  {
   "cell_type": "code",
   "execution_count": 3,
   "metadata": {},
   "outputs": [],
   "source": [
    "from si.statistics.f_classification import f_classification\n",
    "from si.feature_selection.select_percentile import SelectPercentile\n",
    "from si.io.csv_file import read_csv"
   ]
  },
  {
   "cell_type": "code",
   "execution_count": 4,
   "metadata": {},
   "outputs": [
    {
     "name": "stdout",
     "output_type": "stream",
     "text": [
      "     sepal_length  sepal_width  petal_length  petal_width           class\n",
      "0             5.1          3.5           1.4          0.2     Iris-setosa\n",
      "1             4.9          3.0           1.4          0.2     Iris-setosa\n",
      "2             4.7          3.2           1.3          0.2     Iris-setosa\n",
      "3             4.6          3.1           1.5          0.2     Iris-setosa\n",
      "4             5.0          3.6           1.4          0.2     Iris-setosa\n",
      "..            ...          ...           ...          ...             ...\n",
      "145           6.7          3.0           5.2          2.3  Iris-virginica\n",
      "146           6.3          2.5           5.0          1.9  Iris-virginica\n",
      "147           6.5          3.0           5.2          2.0  Iris-virginica\n",
      "148           6.2          3.4           5.4          2.3  Iris-virginica\n",
      "149           5.9          3.0           5.1          1.8  Iris-virginica\n",
      "\n",
      "[150 rows x 5 columns]\n"
     ]
    }
   ],
   "source": [
    "df_path = r\"C:\\Users\\Mariana\\si\\datasets\\iris\\iris.csv\"\n",
    "df = pd.read_csv(df_path) \n",
    "print(df)"
   ]
  },
  {
   "cell_type": "code",
   "execution_count": 5,
   "metadata": {},
   "outputs": [
    {
     "ename": "AttributeError",
     "evalue": "'DataFrame' object has no attribute 'get_classes'",
     "output_type": "error",
     "traceback": [
      "\u001b[1;31m---------------------------------------------------------------------------\u001b[0m",
      "\u001b[1;31mAttributeError\u001b[0m                            Traceback (most recent call last)",
      "\u001b[1;32mc:\\Users\\Mariana\\si\\scripts\\evaluation_2_ex3.ipynb Cell 7\u001b[0m line \u001b[0;36m2\n\u001b[0;32m      <a href='vscode-notebook-cell:/c%3A/Users/Mariana/si/scripts/evaluation_2_ex3.ipynb#X10sZmlsZQ%3D%3D?line=0'>1</a>\u001b[0m selector \u001b[39m=\u001b[39m SelectPercentile(percentile\u001b[39m=\u001b[39m\u001b[39m50\u001b[39m, score_func\u001b[39m=\u001b[39mf_classification)\n\u001b[1;32m----> <a href='vscode-notebook-cell:/c%3A/Users/Mariana/si/scripts/evaluation_2_ex3.ipynb#X10sZmlsZQ%3D%3D?line=1'>2</a>\u001b[0m selector\u001b[39m.\u001b[39;49mfit_transform(df)\n\u001b[0;32m      <a href='vscode-notebook-cell:/c%3A/Users/Mariana/si/scripts/evaluation_2_ex3.ipynb#X10sZmlsZQ%3D%3D?line=2'>3</a>\u001b[0m selector\u001b[39m.\u001b[39mf_value\n",
      "File \u001b[1;32mc:\\Users\\Mariana\\AppData\\Local\\Programs\\Python\\Python310\\lib\\site-packages\\si-0.0.1-py3.10.egg\\si\\feature_selection\\select_percentile.py:51\u001b[0m, in \u001b[0;36mSelectPercentile.fit_transform\u001b[1;34m(self, dataset)\u001b[0m\n\u001b[0;32m     45\u001b[0m \u001b[39mdef\u001b[39;00m \u001b[39mfit_transform\u001b[39m(\u001b[39mself\u001b[39m, dataset):\n\u001b[0;32m     46\u001b[0m \u001b[39m    \u001b[39m\u001b[39m\"\"\"\u001b[39;00m\n\u001b[0;32m     47\u001b[0m \u001b[39m    Calculates the score for each feature and selects the percentile best features.\u001b[39;00m\n\u001b[0;32m     48\u001b[0m \u001b[39m    :param dataset: Dataset object.\u001b[39;00m\n\u001b[0;32m     49\u001b[0m \u001b[39m    :return: Dataset object.\u001b[39;00m\n\u001b[0;32m     50\u001b[0m \u001b[39m    \"\"\"\u001b[39;00m\n\u001b[1;32m---> 51\u001b[0m     \u001b[39mself\u001b[39;49m\u001b[39m.\u001b[39;49mfit(dataset)\n\u001b[0;32m     52\u001b[0m     \u001b[39mreturn\u001b[39;00m \u001b[39mself\u001b[39m\u001b[39m.\u001b[39mtransform(dataset)\n",
      "File \u001b[1;32mc:\\Users\\Mariana\\AppData\\Local\\Programs\\Python\\Python310\\lib\\site-packages\\si-0.0.1-py3.10.egg\\si\\feature_selection\\select_percentile.py:24\u001b[0m, in \u001b[0;36mSelectPercentile.fit\u001b[1;34m(self, dataset)\u001b[0m\n\u001b[0;32m     18\u001b[0m \u001b[39mdef\u001b[39;00m \u001b[39mfit\u001b[39m(\u001b[39mself\u001b[39m, dataset):\n\u001b[0;32m     19\u001b[0m \u001b[39m    \u001b[39m\u001b[39m\"\"\"\u001b[39;00m\n\u001b[0;32m     20\u001b[0m \u001b[39m    Calculates the score for each feature.\u001b[39;00m\n\u001b[0;32m     21\u001b[0m \u001b[39m    :param dataset: Dataset object.\u001b[39;00m\n\u001b[0;32m     22\u001b[0m \u001b[39m    :return: SelectPercentile object.\u001b[39;00m\n\u001b[0;32m     23\u001b[0m \u001b[39m    \"\"\"\u001b[39;00m\n\u001b[1;32m---> 24\u001b[0m     \u001b[39mself\u001b[39m\u001b[39m.\u001b[39mf_value, \u001b[39mself\u001b[39m\u001b[39m.\u001b[39mp_value \u001b[39m=\u001b[39m \u001b[39mself\u001b[39;49m\u001b[39m.\u001b[39;49mscore_func(dataset)\n\u001b[0;32m     26\u001b[0m     \u001b[39mreturn\u001b[39;00m \u001b[39mself\u001b[39m\n",
      "File \u001b[1;32mc:\\Users\\Mariana\\AppData\\Local\\Programs\\Python\\Python310\\lib\\site-packages\\si-0.0.1-py3.10.egg\\si\\statistics\\f_classification.py:28\u001b[0m, in \u001b[0;36mf_classification\u001b[1;34m(dataset)\u001b[0m\n\u001b[0;32m      9\u001b[0m \u001b[39mdef\u001b[39;00m \u001b[39mf_classification\u001b[39m(dataset: Dataset) \u001b[39m-\u001b[39m\u001b[39m>\u001b[39m Union[Tuple[np\u001b[39m.\u001b[39mndarray, np\u001b[39m.\u001b[39mndarray],\n\u001b[0;32m     10\u001b[0m                                                 Tuple[\u001b[39mfloat\u001b[39m, \u001b[39mfloat\u001b[39m]]:\n\u001b[0;32m     11\u001b[0m \u001b[39m    \u001b[39m\u001b[39m\"\"\"\u001b[39;00m\n\u001b[0;32m     12\u001b[0m \u001b[39m    Scoring function for classification problems. It computes one-way ANOVA F-value for the\u001b[39;00m\n\u001b[0;32m     13\u001b[0m \u001b[39m    provided dataset. The F-value scores allows analyzing if the mean between two or more groups (factors)\u001b[39;00m\n\u001b[1;32m   (...)\u001b[0m\n\u001b[0;32m     26\u001b[0m \u001b[39m        p-values\u001b[39;00m\n\u001b[0;32m     27\u001b[0m \u001b[39m    \"\"\"\u001b[39;00m\n\u001b[1;32m---> 28\u001b[0m     classes \u001b[39m=\u001b[39m dataset\u001b[39m.\u001b[39;49mget_classes()\n\u001b[0;32m     29\u001b[0m     groups \u001b[39m=\u001b[39m [dataset\u001b[39m.\u001b[39mX[dataset\u001b[39m.\u001b[39my \u001b[39m==\u001b[39m c] \u001b[39mfor\u001b[39;00m c \u001b[39min\u001b[39;00m classes]\n\u001b[0;32m     30\u001b[0m     F, p \u001b[39m=\u001b[39m stats\u001b[39m.\u001b[39mf_oneway(\u001b[39m*\u001b[39mgroups)\n",
      "File \u001b[1;32mc:\\Users\\Mariana\\AppData\\Local\\Programs\\Python\\Python310\\lib\\site-packages\\pandas\\core\\generic.py:5902\u001b[0m, in \u001b[0;36mNDFrame.__getattr__\u001b[1;34m(self, name)\u001b[0m\n\u001b[0;32m   5895\u001b[0m \u001b[39mif\u001b[39;00m (\n\u001b[0;32m   5896\u001b[0m     name \u001b[39mnot\u001b[39;00m \u001b[39min\u001b[39;00m \u001b[39mself\u001b[39m\u001b[39m.\u001b[39m_internal_names_set\n\u001b[0;32m   5897\u001b[0m     \u001b[39mand\u001b[39;00m name \u001b[39mnot\u001b[39;00m \u001b[39min\u001b[39;00m \u001b[39mself\u001b[39m\u001b[39m.\u001b[39m_metadata\n\u001b[0;32m   5898\u001b[0m     \u001b[39mand\u001b[39;00m name \u001b[39mnot\u001b[39;00m \u001b[39min\u001b[39;00m \u001b[39mself\u001b[39m\u001b[39m.\u001b[39m_accessors\n\u001b[0;32m   5899\u001b[0m     \u001b[39mand\u001b[39;00m \u001b[39mself\u001b[39m\u001b[39m.\u001b[39m_info_axis\u001b[39m.\u001b[39m_can_hold_identifiers_and_holds_name(name)\n\u001b[0;32m   5900\u001b[0m ):\n\u001b[0;32m   5901\u001b[0m     \u001b[39mreturn\u001b[39;00m \u001b[39mself\u001b[39m[name]\n\u001b[1;32m-> 5902\u001b[0m \u001b[39mreturn\u001b[39;00m \u001b[39mobject\u001b[39;49m\u001b[39m.\u001b[39;49m\u001b[39m__getattribute__\u001b[39;49m(\u001b[39mself\u001b[39;49m, name)\n",
      "\u001b[1;31mAttributeError\u001b[0m: 'DataFrame' object has no attribute 'get_classes'"
     ]
    }
   ],
   "source": [
    "selector = SelectPercentile(percentile=50, score_func=f_classification)\n",
    "selector.fit_transform(df)\n",
    "selector.f_value"
   ]
  },
  {
   "cell_type": "code",
   "execution_count": 6,
   "metadata": {},
   "outputs": [],
   "source": [
    "selector.p_value"
   ]
  },
  {
   "cell_type": "code",
   "execution_count": 7,
   "metadata": {},
   "outputs": [
    {
     "ename": "AttributeError",
     "evalue": "'DataFrame' object has no attribute 'get_classes'",
     "output_type": "error",
     "traceback": [
      "\u001b[1;31m---------------------------------------------------------------------------\u001b[0m",
      "\u001b[1;31mAttributeError\u001b[0m                            Traceback (most recent call last)",
      "\u001b[1;32mc:\\Users\\Mariana\\si\\scripts\\evaluation_2_ex3.ipynb Cell 9\u001b[0m line \u001b[0;36m1\n\u001b[1;32m----> <a href='vscode-notebook-cell:/c%3A/Users/Mariana/si/scripts/evaluation_2_ex3.ipynb#X12sZmlsZQ%3D%3D?line=0'>1</a>\u001b[0m transformed_df \u001b[39m=\u001b[39m selector\u001b[39m.\u001b[39;49mfit_transform(df)\n\u001b[0;32m      <a href='vscode-notebook-cell:/c%3A/Users/Mariana/si/scripts/evaluation_2_ex3.ipynb#X12sZmlsZQ%3D%3D?line=1'>2</a>\u001b[0m transformed_df\u001b[39m.\u001b[39mshape()\n",
      "File \u001b[1;32mc:\\Users\\Mariana\\AppData\\Local\\Programs\\Python\\Python310\\lib\\site-packages\\si-0.0.1-py3.10.egg\\si\\feature_selection\\select_percentile.py:51\u001b[0m, in \u001b[0;36mSelectPercentile.fit_transform\u001b[1;34m(self, dataset)\u001b[0m\n\u001b[0;32m     45\u001b[0m \u001b[39mdef\u001b[39;00m \u001b[39mfit_transform\u001b[39m(\u001b[39mself\u001b[39m, dataset):\n\u001b[0;32m     46\u001b[0m \u001b[39m    \u001b[39m\u001b[39m\"\"\"\u001b[39;00m\n\u001b[0;32m     47\u001b[0m \u001b[39m    Calculates the score for each feature and selects the percentile best features.\u001b[39;00m\n\u001b[0;32m     48\u001b[0m \u001b[39m    :param dataset: Dataset object.\u001b[39;00m\n\u001b[0;32m     49\u001b[0m \u001b[39m    :return: Dataset object.\u001b[39;00m\n\u001b[0;32m     50\u001b[0m \u001b[39m    \"\"\"\u001b[39;00m\n\u001b[1;32m---> 51\u001b[0m     \u001b[39mself\u001b[39;49m\u001b[39m.\u001b[39;49mfit(dataset)\n\u001b[0;32m     52\u001b[0m     \u001b[39mreturn\u001b[39;00m \u001b[39mself\u001b[39m\u001b[39m.\u001b[39mtransform(dataset)\n",
      "File \u001b[1;32mc:\\Users\\Mariana\\AppData\\Local\\Programs\\Python\\Python310\\lib\\site-packages\\si-0.0.1-py3.10.egg\\si\\feature_selection\\select_percentile.py:24\u001b[0m, in \u001b[0;36mSelectPercentile.fit\u001b[1;34m(self, dataset)\u001b[0m\n\u001b[0;32m     18\u001b[0m \u001b[39mdef\u001b[39;00m \u001b[39mfit\u001b[39m(\u001b[39mself\u001b[39m, dataset):\n\u001b[0;32m     19\u001b[0m \u001b[39m    \u001b[39m\u001b[39m\"\"\"\u001b[39;00m\n\u001b[0;32m     20\u001b[0m \u001b[39m    Calculates the score for each feature.\u001b[39;00m\n\u001b[0;32m     21\u001b[0m \u001b[39m    :param dataset: Dataset object.\u001b[39;00m\n\u001b[0;32m     22\u001b[0m \u001b[39m    :return: SelectPercentile object.\u001b[39;00m\n\u001b[0;32m     23\u001b[0m \u001b[39m    \"\"\"\u001b[39;00m\n\u001b[1;32m---> 24\u001b[0m     \u001b[39mself\u001b[39m\u001b[39m.\u001b[39mf_value, \u001b[39mself\u001b[39m\u001b[39m.\u001b[39mp_value \u001b[39m=\u001b[39m \u001b[39mself\u001b[39;49m\u001b[39m.\u001b[39;49mscore_func(dataset)\n\u001b[0;32m     26\u001b[0m     \u001b[39mreturn\u001b[39;00m \u001b[39mself\u001b[39m\n",
      "File \u001b[1;32mc:\\Users\\Mariana\\AppData\\Local\\Programs\\Python\\Python310\\lib\\site-packages\\si-0.0.1-py3.10.egg\\si\\statistics\\f_classification.py:28\u001b[0m, in \u001b[0;36mf_classification\u001b[1;34m(dataset)\u001b[0m\n\u001b[0;32m      9\u001b[0m \u001b[39mdef\u001b[39;00m \u001b[39mf_classification\u001b[39m(dataset: Dataset) \u001b[39m-\u001b[39m\u001b[39m>\u001b[39m Union[Tuple[np\u001b[39m.\u001b[39mndarray, np\u001b[39m.\u001b[39mndarray],\n\u001b[0;32m     10\u001b[0m                                                 Tuple[\u001b[39mfloat\u001b[39m, \u001b[39mfloat\u001b[39m]]:\n\u001b[0;32m     11\u001b[0m \u001b[39m    \u001b[39m\u001b[39m\"\"\"\u001b[39;00m\n\u001b[0;32m     12\u001b[0m \u001b[39m    Scoring function for classification problems. It computes one-way ANOVA F-value for the\u001b[39;00m\n\u001b[0;32m     13\u001b[0m \u001b[39m    provided dataset. The F-value scores allows analyzing if the mean between two or more groups (factors)\u001b[39;00m\n\u001b[1;32m   (...)\u001b[0m\n\u001b[0;32m     26\u001b[0m \u001b[39m        p-values\u001b[39;00m\n\u001b[0;32m     27\u001b[0m \u001b[39m    \"\"\"\u001b[39;00m\n\u001b[1;32m---> 28\u001b[0m     classes \u001b[39m=\u001b[39m dataset\u001b[39m.\u001b[39;49mget_classes()\n\u001b[0;32m     29\u001b[0m     groups \u001b[39m=\u001b[39m [dataset\u001b[39m.\u001b[39mX[dataset\u001b[39m.\u001b[39my \u001b[39m==\u001b[39m c] \u001b[39mfor\u001b[39;00m c \u001b[39min\u001b[39;00m classes]\n\u001b[0;32m     30\u001b[0m     F, p \u001b[39m=\u001b[39m stats\u001b[39m.\u001b[39mf_oneway(\u001b[39m*\u001b[39mgroups)\n",
      "File \u001b[1;32mc:\\Users\\Mariana\\AppData\\Local\\Programs\\Python\\Python310\\lib\\site-packages\\pandas\\core\\generic.py:5902\u001b[0m, in \u001b[0;36mNDFrame.__getattr__\u001b[1;34m(self, name)\u001b[0m\n\u001b[0;32m   5895\u001b[0m \u001b[39mif\u001b[39;00m (\n\u001b[0;32m   5896\u001b[0m     name \u001b[39mnot\u001b[39;00m \u001b[39min\u001b[39;00m \u001b[39mself\u001b[39m\u001b[39m.\u001b[39m_internal_names_set\n\u001b[0;32m   5897\u001b[0m     \u001b[39mand\u001b[39;00m name \u001b[39mnot\u001b[39;00m \u001b[39min\u001b[39;00m \u001b[39mself\u001b[39m\u001b[39m.\u001b[39m_metadata\n\u001b[0;32m   5898\u001b[0m     \u001b[39mand\u001b[39;00m name \u001b[39mnot\u001b[39;00m \u001b[39min\u001b[39;00m \u001b[39mself\u001b[39m\u001b[39m.\u001b[39m_accessors\n\u001b[0;32m   5899\u001b[0m     \u001b[39mand\u001b[39;00m \u001b[39mself\u001b[39m\u001b[39m.\u001b[39m_info_axis\u001b[39m.\u001b[39m_can_hold_identifiers_and_holds_name(name)\n\u001b[0;32m   5900\u001b[0m ):\n\u001b[0;32m   5901\u001b[0m     \u001b[39mreturn\u001b[39;00m \u001b[39mself\u001b[39m[name]\n\u001b[1;32m-> 5902\u001b[0m \u001b[39mreturn\u001b[39;00m \u001b[39mobject\u001b[39;49m\u001b[39m.\u001b[39;49m\u001b[39m__getattribute__\u001b[39;49m(\u001b[39mself\u001b[39;49m, name)\n",
      "\u001b[1;31mAttributeError\u001b[0m: 'DataFrame' object has no attribute 'get_classes'"
     ]
    }
   ],
   "source": [
    "transformed_df = selector.fit_transform(df)\n",
    "transformed_df.shape()"
   ]
  }
 ],
 "metadata": {
  "kernelspec": {
   "display_name": "Python 3",
   "language": "python",
   "name": "python3"
  },
  "language_info": {
   "codemirror_mode": {
    "name": "ipython",
    "version": 3
   },
   "file_extension": ".py",
   "mimetype": "text/x-python",
   "name": "python",
   "nbconvert_exporter": "python",
   "pygments_lexer": "ipython3",
   "version": "3.10.7"
  },
  "orig_nbformat": 4
 },
 "nbformat": 4,
 "nbformat_minor": 2
}
